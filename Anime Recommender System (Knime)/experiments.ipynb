{
 "cells": [
  {
   "cell_type": "markdown",
   "metadata": {},
   "source": [
    "# Objective\n",
    "\n",
    "In this notebook we are showcasing a model that can predict the review given to an anime by the general public.\n",
    "\n",
    "After that we are going to fine tune the model on a specific user to try and learn its preferences."
   ]
  },
  {
   "cell_type": "code",
   "execution_count": 2,
   "metadata": {},
   "outputs": [
    {
     "name": "stdout",
     "output_type": "stream",
     "text": [
      "using device: cuda\n"
     ]
    }
   ],
   "source": [
    "import torch as t\n",
    "import random\n",
    "import numpy as np\n",
    "\n",
    "device = \"cuda\" if t.cuda.is_available() else \"cpu\"\n",
    "print(f\"using device: {device}\")\n",
    "\n",
    "# Reproducibility -> Also ensures same train / validation / test split every time\n",
    "t.manual_seed(0)\n",
    "random.seed(0)\n",
    "np.random.seed(0)"
   ]
  },
  {
   "cell_type": "markdown",
   "metadata": {},
   "source": [
    "# Dataset\n",
    "\n",
    "After preprocessing (done with knime) we now have a csv file containing the data\n",
    "\n",
    "The result is a dataset that has splits data like so: User, Anime Information, Genre, Rating\n"
   ]
  },
  {
   "cell_type": "code",
   "execution_count": null,
   "metadata": {},
   "outputs": [
    {
     "name": "stdout",
     "output_type": "stream",
     "text": [
      "Reading csv from: /home/andreacacioli/Documents/github/MachineLearning/Anime Recommender System (Knime)/preprocessed_anime_reviews_short.csv\n",
      "Handling Genres\n"
     ]
    },
    {
     "name": "stderr",
     "output_type": "stream",
     "text": [
      "100%|██████████| 9808/9808 [00:00<00:00, 1389272.01it/s]\n"
     ]
    },
    {
     "name": "stdout",
     "output_type": "stream",
     "text": [
      "Tokenizing genres\n"
     ]
    },
    {
     "name": "stderr",
     "output_type": "stream",
     "text": [
      "100%|██████████| 9808/9808 [00:00<00:00, 1810002.36it/s]"
     ]
    },
    {
     "name": "stdout",
     "output_type": "stream",
     "text": [
      "(tensor([168357.]), tensor([[   6.9800,    0.0000,   26.0000,   19.0000, 3687.0000,  940.0000]]), tensor([30, 77, 60, 51, 35, 69,  0,  0,  0,  0,  0,  0,  0]), tensor([5]))\n",
      "     Score  Type  Episodes  Studios  Ranked  Popularity\n",
      "120   8.51     1         1       14     102         195\n",
      "Values of type:\n",
      "[0 1 2 3 4 5]\n",
      "types = 6\n",
      "unique genres = 77\n"
     ]
    },
    {
     "name": "stderr",
     "output_type": "stream",
     "text": [
      "\n"
     ]
    }
   ],
   "source": [
    "from pandas import read_csv\n",
    "from torch.utils.data import Dataset\n",
    "from tqdm import tqdm\n",
    "\n",
    "\n",
    "class AnimeReviewsDataset(Dataset):\n",
    "    def __init__(self, path) -> None:\n",
    "        print(f\"Reading csv from: {path}\")\n",
    "        df = read_csv(path)\n",
    "        self.ratings = df[\"rating\"].to_list()\n",
    "        self.users = df[\"user_id\"].to_list()\n",
    "        self.genres = df[\"Genres\"].to_list()\n",
    "\n",
    "        df = df.drop(columns=[\"rating\", \"user_id\", \"Genres\"])\n",
    "        self.anime_features = df\n",
    "        self.PADDING_VALUE = 0\n",
    "\n",
    "        print(f\"Handling Genres\")\n",
    "        s = set()\n",
    "        for genre in tqdm(self.genres):\n",
    "            genres = genre.split(\",\")\n",
    "            s = s.union(set(genres))\n",
    "        s = list(s)\n",
    "        self.unique_genres = len(s)\n",
    "        s = { g:i + 1 for i, g in enumerate(s)}\n",
    "\n",
    "        print(f\"Tokenizing genres\")\n",
    "        for i in tqdm(range(len(self.genres))):\n",
    "            g = self.genres[i].split(\",\")\n",
    "            g = [s[gen] for gen in g]\n",
    "            self.genres[i] = g\n",
    "\n",
    "\n",
    "        self.max_genre_len = max([len(a) for a in self.genres])\n",
    "\n",
    "\n",
    "    def __len__(self):\n",
    "        return len(self.users)\n",
    "\n",
    "    def __getitem__(self, index):\n",
    "        user = t.Tensor([self.users[index]])\n",
    "        anime_features = t.Tensor(self.anime_features.iloc[[index]].to_numpy().tolist())\n",
    "        genres = t.Tensor(self.genres[index]).long()\n",
    "        rating = t.Tensor([self.ratings[index]]).long()\n",
    "\n",
    "        L = genres.shape[0]\n",
    "        genres = t.nn.functional.pad(genres, (0, self.max_genre_len - L), value=self.PADDING_VALUE)\n",
    "        return user, anime_features, genres, rating\n",
    "\n",
    "\n",
    "dataset = AnimeReviewsDataset(\"/home/andreacacioli/Documents/github/MachineLearning/Anime Recommender System (Knime)/preprocessed_anime_reviews_short.csv\")\n",
    "print(dataset.__getitem__(155))\n",
    "print(dataset.anime_features.iloc[[120]])\n",
    "print(\"Values of type:\")\n",
    "print(dataset.anime_features[\"Type\"].unique())\n",
    "types = len(dataset.anime_features[\"Type\"].unique())\n",
    "print(f\"types = {types}\")\n",
    "print(f\"unique genres = {dataset.unique_genres}\")"
   ]
  },
  {
   "cell_type": "markdown",
   "metadata": {},
   "source": [
    "# Data distribution visualization\n",
    "\n",
    "We now plot the data to see how the ratings are distributed"
   ]
  },
  {
   "cell_type": "code",
   "execution_count": 6,
   "metadata": {},
   "outputs": [
    {
     "data": {
      "image/png": "[encoded data removed]",
      "text/plain": [
       "<Figure size 1000x600 with 1 Axes>"
      ]
     },
     "metadata": {},
     "output_type": "display_data"
    }
   ],
   "source": [
    "import matplotlib.pyplot as plt\n",
    "\n",
    "\n",
    "x = dataset.ratings\n",
    "plt.figure(figsize=(10,6))\n",
    "plt.hist(x, bins=10, edgecolor='black') \n",
    "plt.title(\"Rating Distribution\") \n",
    "plt.xlabel(\"rating\") \n",
    "plt.ylabel(\"Frequency\") \n",
    "plt.grid(True) "
   ]
  },
  {
   "cell_type": "markdown",
   "metadata": {},
   "source": [
    "# Separate the dataset\n",
    "\n",
    "We split the dataset into training, test and validation"
   ]
  },
  {
   "cell_type": "code",
   "execution_count": 3,
   "metadata": {},
   "outputs": [],
   "source": [
    "from torch.utils.data import random_split, DataLoader\n",
    "\n",
    "batch_size = 2048\n",
    "\n",
    "train_dataset, test_dataset, validation_dataset = random_split(dataset, [0.8, 0.1, 0.1])\n",
    "\n",
    "train_dataloader = DataLoader(train_dataset, shuffle=True, batch_size=batch_size)\n",
    "test_dataloader = DataLoader(test_dataset, shuffle=True, batch_size=batch_size)\n",
    "validation_dataloader = DataLoader(\n",
    "    validation_dataset, shuffle=True, batch_size=batch_size\n",
    ")"
   ]
  },
  {
   "cell_type": "markdown",
   "metadata": {},
   "source": [
    "# Define a generic step\n",
    "\n",
    "We perform this step regardless of the model, optimizer, or the phase we are in (training / test)"
   ]
  },
  {
   "cell_type": "code",
   "execution_count": 4,
   "metadata": {},
   "outputs": [],
   "source": [
    "def run_step(model, loss_fn, features, genres, target):\n",
    "    features = features.squeeze().to(device)\n",
    "    target = target.squeeze().long().to(device)\n",
    "    ones = t.ones(target.shape).long().to(device)\n",
    "    target = t.sub(target, ones) # To go from ratings in [1:10] to values in [0:9]\n",
    "    x = model(features, genres)\n",
    "    loss = loss_fn(x, target)\n",
    "    return loss, x"
   ]
  },
  {
   "cell_type": "markdown",
   "metadata": {},
   "source": [
    "# The Model\n",
    "\n",
    "Now it is time to build the model that predicts the value of a rating given the features"
   ]
  },
  {
   "cell_type": "code",
   "execution_count": 5,
   "metadata": {},
   "outputs": [
    {
     "name": "stdout",
     "output_type": "stream",
     "text": [
      "310.65M\n"
     ]
    }
   ],
   "source": [
    "class MLP_Predictor(t.nn.Module):\n",
    "    def __init__(self, types, emb_size, device, genres, ratings = 10, hidden_size = 4096) -> None:\n",
    "        super().__init__()\n",
    "        self.device = device\n",
    "        self.embed = t.nn.Embedding(types, emb_size).to(device)\n",
    "        self.genre_embedder = t.nn.Embedding(genres + 1, emb_size, padding_idx=dataset.PADDING_VALUE).to(device)\n",
    "        self.sequential = t.nn.Sequential(\n",
    "            # We expect 5 features + the type\n",
    "            t.nn.LayerNorm(5 + emb_size * 2),\n",
    "            t.nn.Linear(5 + emb_size * 2, hidden_size // 4),\n",
    "            t.nn.ReLU(),\n",
    "            t.nn.LayerNorm(hidden_size // 4),\n",
    "            t.nn.Dropout(0.2),\n",
    "            t.nn.Linear(hidden_size // 4, hidden_size // 2),\n",
    "            t.nn.ReLU(),\n",
    "            t.nn.LayerNorm(hidden_size // 2),\n",
    "            t.nn.Dropout(0.2),\n",
    "            t.nn.Linear(hidden_size // 2, hidden_size),\n",
    "            t.nn.ReLU(),\n",
    "            t.nn.LayerNorm(hidden_size),\n",
    "            t.nn.Linear(hidden_size, hidden_size),\n",
    "            t.nn.ReLU(),\n",
    "            t.nn.LayerNorm(hidden_size),\n",
    "            t.nn.Dropout(0.2),\n",
    "            t.nn.Linear(hidden_size, hidden_size),\n",
    "            t.nn.ReLU(),\n",
    "            t.nn.LayerNorm(hidden_size),\n",
    "            t.nn.Dropout(0.2),\n",
    "            t.nn.Linear(hidden_size, hidden_size),\n",
    "            t.nn.ReLU(),\n",
    "            t.nn.Dropout(0.2),\n",
    "            t.nn.Linear(hidden_size, hidden_size),\n",
    "            t.nn.LayerNorm(hidden_size),\n",
    "            t.nn.ReLU(),\n",
    "            t.nn.Dropout(0.2),\n",
    "            t.nn.BatchNorm1d(hidden_size),\n",
    "            t.nn.Linear(hidden_size, ratings),\n",
    "        ).to(device)\n",
    "\n",
    "\n",
    "    def forward(self, x, genres):\n",
    "        B, L = x.shape\n",
    "        x.to(self.device)\n",
    "        genres = genres.to(device)\n",
    "        assert L == 6, \"This predictor expects a 6-element feature vector\"\n",
    "\n",
    "        # Get the type (position 1 in the feature vector)\n",
    "        ty = x[:, 1:2].long().squeeze()\n",
    "        # Remove the type from x\n",
    "        x = t.cat([x[:, :1], x[:, 2:]], dim=1)\n",
    "        # Embed the type\n",
    "        ty = self.embed(ty)\n",
    "        x = t.cat([x, ty], dim=1)\n",
    "\n",
    "        genres = self.genre_embedder(genres) # [B, G] -> [B, G, emb]\n",
    "        genres = t.sum(genres, dim = 1) # [B, G, emb] -> [B, emb]\n",
    "\n",
    "        x = t.cat([x, genres], dim=1)  # [B, L + emb_dim] cat [B, emb_dim]\n",
    "        x = self.sequential(x)\n",
    "        return x\n",
    "\n",
    "    def size(self):\n",
    "        def human_format(num):\n",
    "            magnitude = 0\n",
    "            while abs(num) >= 1000:\n",
    "                magnitude += 1\n",
    "                num /= 1000.0\n",
    "            # add more suffixes if you need them\n",
    "            return \"%.2f%s\" % (num, [\"\", \"K\", \"M\", \"G\", \"T\", \"P\"][magnitude])\n",
    "\n",
    "        return human_format(sum(p.numel() for p in self.parameters()))\n",
    "\n",
    "\n",
    "model = MLP_Predictor(types=types, emb_size=10, device=device, genres=dataset.unique_genres, hidden_size=8192)\n",
    "print(model.size())"
   ]
  },
  {
   "cell_type": "markdown",
   "metadata": {},
   "source": [
    "# First Steps\n",
    "\n",
    "Here we check if everything is set up correctly"
   ]
  },
  {
   "cell_type": "code",
   "execution_count": 6,
   "metadata": {},
   "outputs": [
    {
     "data": {
      "text/plain": [
       "tensor(2.4435, device='cuda:0', grad_fn=<NllLossBackward0>)"
      ]
     },
     "execution_count": 6,
     "metadata": {},
     "output_type": "execute_result"
    }
   ],
   "source": [
    "weight =t.Tensor([10,10,10,10,10,10,1,1,1,10]).to(device)\n",
    "loss_fn = t.nn.CrossEntropyLoss() # Not using weight\n",
    "learning_rate = 0.0001\n",
    "optimizer = t.optim.Adam(model.parameters(), learning_rate)\n",
    "_, features, genres, target = next(iter(train_dataloader))\n",
    "loss, logits = run_step(model, loss_fn, features, genres, target)\n",
    "loss"
   ]
  },
  {
   "cell_type": "markdown",
   "metadata": {},
   "source": [
    "# Loading an existing model\n",
    "\n",
    "It could be useful to start from where we left off."
   ]
  },
  {
   "cell_type": "code",
   "execution_count": 8,
   "metadata": {},
   "outputs": [
    {
     "name": "stdout",
     "output_type": "stream",
     "text": [
      "Starting from fresh: no models to load\n"
     ]
    }
   ],
   "source": [
    "import os\n",
    "\n",
    "\n",
    "def get_unique_experiment_name():\n",
    "    return model.__class__.__name__ + \"_\" + model.size()\n",
    "\n",
    "\n",
    "models_dir = \"/home/andreacacioli/Documents/github/MachineLearning/Anime Recommender System (Knime)/models/\"\n",
    "checkpoints = os.listdir(models_dir)\n",
    "unique_name = get_unique_experiment_name()\n",
    "checkpoints = [\n",
    "    f for f in checkpoints if f[: min(len(unique_name), len(f))] == unique_name\n",
    "]\n",
    "if len(checkpoints) == 0:\n",
    "    print(\"Starting from fresh: no models to load\")\n",
    "    epoch = 0\n",
    "else:\n",
    "    checkpoints.sort(key=lambda x: int(x[x.index(\"-\") + 1 : -3]), reverse=True)\n",
    "\n",
    "    epoch = int(checkpoints[0][checkpoints[0].index(\"-\") + 1 : -3])\n",
    "    print(f\"Loading from {models_dir + checkpoints[0]}\")\n",
    "    model.load_state_dict(t.load(models_dir + checkpoints[0], weights_only=True))\n",
    "    print(f\"Loaded epoch {epoch}\")"
   ]
  },
  {
   "cell_type": "markdown",
   "metadata": {},
   "source": [
    "# Training Loop\n",
    "\n",
    "We set up a simple training loot that uses the validation and training sets to train the model"
   ]
  },
  {
   "cell_type": "code",
   "execution_count": 9,
   "metadata": {},
   "outputs": [
    {
     "name": "stdout",
     "output_type": "stream",
     "text": [
      "Finished epoch 0\n",
      "Training loss average = 1.7543095350265503\n",
      "Evaluation loss average = 1.749603271484375\n",
      "Current Best Epoch: 0: Validation Loss: 1.6871767044067383\n"
     ]
    },
    {
     "name": "stderr",
     "output_type": "stream",
     "text": [
      "  0%|          | 60/22084 [00:22<2:16:29,  2.69it/s]\n"
     ]
    },
    {
     "ename": "KeyboardInterrupt",
     "evalue": "",
     "output_type": "error",
     "traceback": [
      "\u001b[0;31m---------------------------------------------------------------------------\u001b[0m",
      "\u001b[0;31mKeyboardInterrupt\u001b[0m                         Traceback (most recent call last)",
      "Cell \u001b[0;32mIn[9], line 33\u001b[0m\n\u001b[1;32m     31\u001b[0m loss\u001b[38;5;241m.\u001b[39mbackward()\n\u001b[1;32m     32\u001b[0m optimizer\u001b[38;5;241m.\u001b[39mstep()\n\u001b[0;32m---> 33\u001b[0m current_train_loss \u001b[38;5;241m=\u001b[39m t\u001b[38;5;241m.\u001b[39mcat((current_train_loss, \u001b[43mloss\u001b[49m\u001b[38;5;241;43m.\u001b[39;49m\u001b[43mto\u001b[49m\u001b[43m(\u001b[49m\u001b[38;5;124;43m\"\u001b[39;49m\u001b[38;5;124;43mcpu\u001b[39;49m\u001b[38;5;124;43m\"\u001b[39;49m\u001b[43m)\u001b[49m\u001b[38;5;241m.\u001b[39munsqueeze(\u001b[38;5;241m0\u001b[39m)))\n\u001b[1;32m     35\u001b[0m \u001b[38;5;28;01mif\u001b[39;00m i \u001b[38;5;241m==\u001b[39m \u001b[38;5;241m0\u001b[39m:\n\u001b[1;32m     36\u001b[0m     \u001b[38;5;66;03m#Validation Step\u001b[39;00m\n\u001b[1;32m     37\u001b[0m     \u001b[38;5;28;01mwith\u001b[39;00m t\u001b[38;5;241m.\u001b[39mno_grad():\n",
      "\u001b[0;31mKeyboardInterrupt\u001b[0m: "
     ]
    }
   ],
   "source": [
    "from tqdm import tqdm\n",
    "from IPython.display import clear_output\n",
    "import copy\n",
    "\n",
    "train_losses = []\n",
    "validation_losses = []\n",
    "\n",
    "EVAL_EVERY = 10 # Only running evaluation step every 10 training steps\n",
    "\n",
    "epochs = epoch + 2 # Set this to the number of training epochs you want to perform\n",
    "\n",
    "with t.no_grad(): # To initialize the eval loss before training\n",
    "    model.eval()\n",
    "    _, fe, ge, ta = next(iter(validation_dataloader))\n",
    "    loss, _ = run_step(model, loss_fn, fe, ge, ta)\n",
    "    loss = loss.mean().item()\n",
    "    best_eval_loss = loss\n",
    "    best_epoch = -1\n",
    "    model.train()\n",
    "\n",
    "while epoch < epochs:\n",
    "    current_train_loss = t.empty(0, device=\"cpu\")\n",
    "    current_eval_loss = t.empty(0, device=\"cpu\")\n",
    "\n",
    "    i = 0\n",
    "    for user, features, genres, target in tqdm(train_dataloader):\n",
    "        #Training Step\n",
    "        optimizer.zero_grad()\n",
    "        loss, _ = run_step(model, loss_fn, features, genres, target)\n",
    "        loss = loss.mean()\n",
    "        loss.backward()\n",
    "        optimizer.step()\n",
    "        current_train_loss = t.cat((current_train_loss, loss.to(\"cpu\").unsqueeze(0)))\n",
    "\n",
    "        if i == 0:\n",
    "            #Validation Step\n",
    "            with t.no_grad():\n",
    "                model.eval()\n",
    "                _, fe, ge, ta = next(iter(validation_dataloader))\n",
    "                loss, _ = run_step(model, loss_fn, fe, ge, ta)\n",
    "                loss = loss.mean()\n",
    "                current_eval_loss = t.cat((current_eval_loss, loss.to(\"cpu\").unsqueeze(0)))\n",
    "                loss = loss.item()\n",
    "                if loss < best_eval_loss: # Getting the best model\n",
    "                    best_eval_loss = loss\n",
    "                    best_model = copy.deepcopy(model)\n",
    "                    best_epoch = epoch\n",
    "                model.train()\n",
    "        i = (i + 1) % EVAL_EVERY\n",
    "\n",
    "    train_losses = train_losses + current_train_loss.tolist()\n",
    "    validation_losses = validation_losses + current_eval_loss.tolist()\n",
    "    \n",
    "    clear_output()\n",
    "    print(f\"Finished epoch {epoch}\")\n",
    "    print(\n",
    "        f\"Training loss average = {sum(current_train_loss) / len(current_train_loss)}\"\n",
    "    )\n",
    "    eval_loss = sum(current_eval_loss) / len(current_eval_loss)\n",
    "    print(f\"Evaluation loss average = {eval_loss}\")\n",
    "    print(f\"Current Best Epoch: {best_epoch}: Validation Loss: {best_eval_loss}\")\n",
    "    epoch += 1\n",
    "\n",
    "print(f\"Going back to epoch {best_epoch}: validation loss: {best_eval_loss}\")\n",
    "model = best_model\n",
    "epoch = best_epoch"
   ]
  },
  {
   "cell_type": "markdown",
   "metadata": {},
   "source": [
    "# Plotting the epochs\n",
    "\n",
    "Using matplotlib to plot the result of the experiment"
   ]
  },
  {
   "cell_type": "code",
   "execution_count": 10,
   "metadata": {},
   "outputs": [
    {
     "data": {
      "image/png": "[encoded data removed]",
      "text/plain": [
       "<Figure size 640x480 with 2 Axes>"
      ]
     },
     "metadata": {},
     "output_type": "display_data"
    }
   ],
   "source": [
    "import matplotlib.pyplot as plt\n",
    "\n",
    "fig, axs = plt.subplots(2)\n",
    "\n",
    "x = list(range(1, len(train_losses) + 1))\n",
    "axs[0].plot(x, train_losses)\n",
    "\n",
    "\n",
    "x = list(range(1, len(validation_losses) + 1))\n",
    "axs[1].plot(x, validation_losses)\n",
    "plt.show()"
   ]
  },
  {
   "cell_type": "markdown",
   "metadata": {},
   "source": [
    "# Saving the model\n",
    "\n",
    "As long as we are carrying out the same experiment we should be able to save and load the model.\n",
    "This saves a lot of time and allows us to restart from where we left off the previous time."
   ]
  },
  {
   "cell_type": "code",
   "execution_count": 11,
   "metadata": {},
   "outputs": [],
   "source": [
    "t.save(\n",
    "    model.state_dict(),\n",
    "    f\"/home/andreacacioli/Documents/github/MachineLearning/Anime Recommender System (Knime)/models/{get_unique_experiment_name()}_epoch-{epoch}.pt\",\n",
    ")"
   ]
  },
  {
   "cell_type": "markdown",
   "metadata": {},
   "source": [
    "# Testing the model\n",
    "\n",
    "We are going to calculate some metrics on the test set:\n",
    "\n",
    "- First, we are going to calculate the loss on the test set\n",
    "- Secondly, we consider the most likely value of the model to be the predicted value\n",
    "- Then, we are going to perform a sampling from the tensor and get it as a prediction"
   ]
  },
  {
   "cell_type": "code",
   "execution_count": 12,
   "metadata": {},
   "outputs": [
    {
     "name": "stderr",
     "output_type": "stream",
     "text": [
      "100%|██████████| 2761/2761 [12:00<00:00,  3.83it/s] \n"
     ]
    },
    {
     "name": "stdout",
     "output_type": "stream",
     "text": [
      "Average test loss: 1.738859517122688\n",
      "-------------------------\n",
      "Maximum A Posteriori Probability\n"
     ]
    },
    {
     "name": "stderr",
     "output_type": "stream",
     "text": [
      "/home/andreacacioli/miniconda3/envs/experiments/lib/python3.9/site-packages/sklearn/metrics/_classification.py:1531: UndefinedMetricWarning: Precision is ill-defined and being set to 0.0 in labels with no predicted samples. Use `zero_division` parameter to control this behavior.\n",
      "  _warn_prf(average, modifier, f\"{metric.capitalize()} is\", len(result))\n",
      "/home/andreacacioli/miniconda3/envs/experiments/lib/python3.9/site-packages/sklearn/metrics/_classification.py:1531: UndefinedMetricWarning: Precision is ill-defined and being set to 0.0 in labels with no predicted samples. Use `zero_division` parameter to control this behavior.\n",
      "  _warn_prf(average, modifier, f\"{metric.capitalize()} is\", len(result))\n",
      "/home/andreacacioli/miniconda3/envs/experiments/lib/python3.9/site-packages/sklearn/metrics/_classification.py:1531: UndefinedMetricWarning: Precision is ill-defined and being set to 0.0 in labels with no predicted samples. Use `zero_division` parameter to control this behavior.\n",
      "  _warn_prf(average, modifier, f\"{metric.capitalize()} is\", len(result))\n"
     ]
    },
    {
     "name": "stdout",
     "output_type": "stream",
     "text": [
      "              precision    recall  f1-score   support\n",
      "\n",
      "           1       0.38      0.12      0.18     29141\n",
      "           2       0.00      0.00      0.00     36762\n",
      "           3       0.00      0.00      0.00     65022\n",
      "           4       0.00      0.00      0.00    138175\n",
      "           5       0.22      0.03      0.05    328783\n",
      "           6       0.24      0.07      0.10    664364\n",
      "           7       0.29      0.51      0.37   1307516\n",
      "           8       0.31      0.50      0.38   1448489\n",
      "           9       0.31      0.23      0.26    970337\n",
      "          10       0.46      0.08      0.13    664870\n",
      "\n",
      "    accuracy                           0.30   5653459\n",
      "   macro avg       0.22      0.15      0.15   5653459\n",
      "weighted avg       0.30      0.30      0.26   5653459\n",
      "\n",
      "-------------------------\n",
      "Results sampling from the model\n",
      "              precision    recall  f1-score   support\n",
      "\n",
      "           1       0.07      0.07      0.07     29141\n",
      "           2       0.03      0.03      0.03     36762\n",
      "           3       0.03      0.03      0.03     65022\n",
      "           4       0.05      0.05      0.05    138175\n",
      "           5       0.09      0.09      0.09    328783\n",
      "           6       0.15      0.15      0.15    664364\n",
      "           7       0.25      0.25      0.25   1307516\n",
      "           8       0.27      0.27      0.27   1448489\n",
      "           9       0.22      0.21      0.21    970337\n",
      "          10       0.17      0.17      0.17    664870\n",
      "\n",
      "    accuracy                           0.21   5653459\n",
      "   macro avg       0.13      0.13      0.13   5653459\n",
      "weighted avg       0.21      0.21      0.21   5653459\n",
      "\n"
     ]
    }
   ],
   "source": [
    "from sklearn.metrics import classification_report\n",
    "\n",
    "\n",
    "test_losses = []\n",
    "y_true = []\n",
    "y_pred_map = []\n",
    "y_pred_sampled = []\n",
    "\n",
    "with t.no_grad():\n",
    "    model.eval()\n",
    "    for _, features, ge, target in tqdm(test_dataloader):\n",
    "        loss, logits = run_step(model, loss_fn, features, ge, target)\n",
    "        loss = loss.item()\n",
    "        test_losses.append(loss)\n",
    "\n",
    "        target = target.long().squeeze().tolist()\n",
    "        y_true = y_true + target\n",
    "\n",
    "        # Get likeliest value for each element of the batch\n",
    "        likeliest = t.argmax(logits, dim=1)\n",
    "        likeliest = likeliest + t.ones(likeliest.shape).to(\n",
    "            device\n",
    "        )  # Going from [0, 9] back to [1 - 10]\n",
    "        y_pred_map = y_pred_map + likeliest.squeeze().tolist()\n",
    "\n",
    "        # Get top_k values\n",
    "        logits = t.nn.functional.softmax(logits, dim=1)\n",
    "        sampled = t.multinomial(logits, 1)\n",
    "        sampled = sampled + t.ones(sampled.shape).to(\n",
    "            device\n",
    "        )  # Going from [0, 9] back to [1 - 10]\n",
    "        sampled = sampled.squeeze().tolist()\n",
    "        y_pred_sampled = y_pred_sampled + sampled\n",
    "\n",
    "\n",
    "print(f\"Average test loss: {sum(test_losses) / len(test_losses)}\")\n",
    "print(f\"-------------------------\")\n",
    "print(f\"Maximum A Posteriori Probability\")\n",
    "print(classification_report(y_true, y_pred_map))\n",
    "print(f\"-------------------------\")\n",
    "print(f\"Results sampling from the model\")\n",
    "print(classification_report(y_true, y_pred_sampled))"
   ]
  }
 ],
 "metadata": {
  "kernelspec": {
   "display_name": "experiments",
   "language": "python",
   "name": "python3"
  },
  "language_info": {
   "codemirror_mode": {
    "name": "ipython",
    "version": 3
   },
   "file_extension": ".py",
   "mimetype": "text/x-python",
   "name": "python",
   "nbconvert_exporter": "python",
   "pygments_lexer": "ipython3",
   "version": "3.9.20"
  }
 },
 "nbformat": 4,
 "nbformat_minor": 2
}
