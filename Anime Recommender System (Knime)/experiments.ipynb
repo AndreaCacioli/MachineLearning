{
 "cells": [
  {
   "cell_type": "markdown",
   "metadata": {},
   "source": [
    "# Objective\n",
    "\n",
    "In this notebook we are showcasing a model that can predict the review given to an anime by the general public.\n",
    "\n",
    "After that we are going to fine tune the model on a specific user to try and learn its preferences."
   ]
  },
  {
   "cell_type": "code",
   "execution_count": 164,
   "metadata": {},
   "outputs": [
    {
     "name": "stdout",
     "output_type": "stream",
     "text": [
      "using device: cuda\n"
     ]
    }
   ],
   "source": [
    "import torch as t\n",
    "\n",
    "device = \"cuda\" if t.cuda.is_available() else \"cpu\"\n",
    "print(f\"using device: {device}\")"
   ]
  },
  {
   "cell_type": "markdown",
   "metadata": {},
   "source": [
    "# Dataset\n",
    "\n",
    "After preprocessing (done with knime) we now have a csv file containing the data\n",
    "\n",
    "The result is a dataset that has splits data like so: User, Anime Information, Rating"
   ]
  },
  {
   "cell_type": "code",
   "execution_count": 165,
   "metadata": {},
   "outputs": [
    {
     "name": "stdout",
     "output_type": "stream",
     "text": [
      "(tensor([277341.]), tensor([[  8.5100,   1.0000,   1.0000,  14.0000, 102.0000, 195.0000]]), tensor([7.]))\n",
      "     Score  Type  Episodes  Studios  Ranked  Popularity\n",
      "120   8.51     1         1       14     102         195\n",
      "Values of type:\n",
      "[0 1 2 3 4 5]\n",
      "types = 6\n"
     ]
    }
   ],
   "source": [
    "from pandas import read_csv\n",
    "from torch.utils.data import Dataset\n",
    "\n",
    "class AnimeReviewsDataset(Dataset):\n",
    "    def __init__(self, path) -> None:\n",
    "        df = read_csv(path)\n",
    "        self.ratings = df[\"rating\"].to_list()\n",
    "        self.users = df[\"user_id\"].to_list()\n",
    "        df = df.drop(columns=[\"rating\", \"user_id\"])\n",
    "        # TODO add genre support\n",
    "        df = df.drop(columns=[\"Genres\"]) # Not handling genres for now\n",
    "\n",
    "        self.anime_features = df\n",
    "\n",
    "    def __len__(self):\n",
    "        return len(self.users)\n",
    "    \n",
    "    def __getitem__(self, index):\n",
    "        user = t.Tensor([self.users[index]])\n",
    "        anime_features = t.Tensor(self.anime_features.iloc[[index]].to_numpy().tolist())\n",
    "        rating = t.Tensor([self.ratings[index]])\n",
    "\n",
    "        return user, anime_features, rating\n",
    "\n",
    "\n",
    "dataset = AnimeReviewsDataset(\"/home/andreacacioli/Documents/github/MachineLearning/Anime Recommender System (Knime)/preprocessed_anime_reviews_short.csv\")\n",
    "print(dataset.__getitem__(120))\n",
    "print(dataset.anime_features.iloc[[120]])\n",
    "print(\"Values of type:\")\n",
    "print(dataset.anime_features[\"Type\"].unique())\n",
    "types = len(dataset.anime_features[\"Type\"].unique())\n",
    "print(f\"types = {types}\")"
   ]
  },
  {
   "cell_type": "markdown",
   "metadata": {},
   "source": [
    "# Separate the dataset\n",
    "\n",
    "We split the dataset into training, test and validation"
   ]
  },
  {
   "cell_type": "code",
   "execution_count": 166,
   "metadata": {},
   "outputs": [],
   "source": [
    "from torch.utils.data import random_split, DataLoader\n",
    "batch_size = 512\n",
    "\n",
    "train_dataset, test_dataset, validation_dataset = random_split(dataset, [0.7, 0.2, 0.1])\n",
    "\n",
    "train_dataloader = DataLoader(train_dataset, shuffle=True, batch_size=batch_size)\n",
    "test_dataloader = DataLoader(test_dataset, shuffle=True, batch_size=batch_size)\n",
    "validation_dataloader = DataLoader(validation_dataset, shuffle=True, batch_size=batch_size)"
   ]
  },
  {
   "cell_type": "markdown",
   "metadata": {},
   "source": [
    "# Define a generic step\n",
    "\n",
    "We perform this step regardless of the model, optimizer, or the phase we are in (training / test)"
   ]
  },
  {
   "cell_type": "code",
   "execution_count": 167,
   "metadata": {},
   "outputs": [],
   "source": [
    "def run_step(model, loss_fn, features, target) -> t.Tensor:\n",
    "    features = features.squeeze().to(device)\n",
    "    target = target.squeeze().long().to(device)\n",
    "    ones = t.ones(target.shape).long().to(device)\n",
    "    target = t.sub(target, ones) # To go from ratings in [1:10] to values in [0:9]\n",
    "    x = model(features)\n",
    "    loss = loss_fn(x, target)\n",
    "    return loss"
   ]
  },
  {
   "cell_type": "markdown",
   "metadata": {},
   "source": [
    "# The Model\n",
    "\n",
    "Now it is time to build the model that predicts the value of a rating given the features"
   ]
  },
  {
   "cell_type": "code",
   "execution_count": 168,
   "metadata": {},
   "outputs": [
    {
     "name": "stdout",
     "output_type": "stream",
     "text": [
      "23.12M\n"
     ]
    }
   ],
   "source": [
    "class MLP_Predictor(t.nn.Module):\n",
    "    def __init__(self, types, emb_size, device, ratings = 10) -> None:\n",
    "        super().__init__()\n",
    "        self.device = device\n",
    "        self.embed = t.nn.Embedding(types, emb_size).to(device)\n",
    "        self.sequential = t.nn.Sequential(\n",
    "            # We expect 5 features + the type\n",
    "            t.nn.Linear(5 + emb_size, 1024),\n",
    "            t.nn.ReLU(),\n",
    "            t.nn.Dropout(0.2),\n",
    "            t.nn.Linear(1024, 2048),\n",
    "            t.nn.ReLU(),\n",
    "            t.nn.Dropout(0.2),\n",
    "            t.nn.Linear(2048, 2048),\n",
    "            t.nn.ReLU(),\n",
    "            t.nn.Linear(2048, 2048),\n",
    "            t.nn.ReLU(),\n",
    "            t.nn.Dropout(0.2),\n",
    "            t.nn.Linear(2048, 2048),\n",
    "            t.nn.ReLU(),\n",
    "            t.nn.Dropout(0.2),\n",
    "            t.nn.Linear(2048, 2048),\n",
    "            t.nn.ReLU(),\n",
    "            t.nn.Dropout(0.2),\n",
    "            t.nn.Linear(2048, 2048),\n",
    "            t.nn.ReLU(),\n",
    "            t.nn.Dropout(0.2),\n",
    "            t.nn.BatchNorm1d(2048),\n",
    "            t.nn.Linear(2048, ratings)\n",
    "            #t.nn.Softmax(dim=1) # To get a probability distribution (Not Necessary but good for the looks)\n",
    "        ).to(device)\n",
    "\n",
    "\n",
    "    def forward(self, x):\n",
    "        B, L = x.shape\n",
    "        x.to(self.device)\n",
    "        assert L == 6, \"This predictor expects a 6-element feature vector\"\n",
    "\n",
    "        # Get the type (position 1 in the feature vector)\n",
    "        ty = x[:, 1:2].long().squeeze()\n",
    "        # Remove the type from x\n",
    "        x = t.cat([x[:, :1], x[:, 2:]], dim=1)\n",
    "        #Embed the type\n",
    "        ty = self.embed(ty)\n",
    "\n",
    "        x = t.cat([x, ty], dim=1)\n",
    "        x = self.sequential(x)\n",
    "        return x\n",
    "\n",
    "    def size(self):\n",
    "        def human_format(num):\n",
    "            magnitude = 0\n",
    "            while abs(num) >= 1000:\n",
    "                magnitude += 1\n",
    "                num /= 1000.0\n",
    "            # add more suffixes if you need them\n",
    "            return '%.2f%s' % (num, ['', 'K', 'M', 'G', 'T', 'P'][magnitude])\n",
    "        return human_format(sum(p.numel() for p in self.parameters()))\n",
    "\n",
    "\n",
    "model = MLP_Predictor(types, 10, device)\n",
    "print(model.size())"
   ]
  },
  {
   "cell_type": "markdown",
   "metadata": {},
   "source": [
    "# First Steps\n",
    "\n",
    "Here we check if everything is set up correctly"
   ]
  },
  {
   "cell_type": "code",
   "execution_count": 169,
   "metadata": {},
   "outputs": [
    {
     "data": {
      "text/plain": [
       "tensor(2.4244, device='cuda:0', grad_fn=<NllLossBackward0>)"
      ]
     },
     "execution_count": 169,
     "metadata": {},
     "output_type": "execute_result"
    }
   ],
   "source": [
    "loss_fn = t.nn.CrossEntropyLoss()\n",
    "learning_rate = 0.0001\n",
    "optimizer = t.optim.Adam(model.parameters(), learning_rate)\n",
    "_, features, target = next(iter(train_dataloader))\n",
    "loss = run_step(model, loss_fn, features, target)\n",
    "loss"
   ]
  },
  {
   "cell_type": "markdown",
   "metadata": {},
   "source": [
    "# Training Loop\n",
    "\n",
    "We set up a simple training loot that uses the validation and training sets to train the model"
   ]
  },
  {
   "cell_type": "code",
   "execution_count": null,
   "metadata": {},
   "outputs": [],
   "source": [
    "from tqdm import tqdm\n",
    "\n",
    "train_losses = []\n",
    "validation_losses = []\n",
    "epochs = 200\n",
    "for epoch in range(epochs):\n",
    "    current_train_loss = []\n",
    "    current_eval_loss = []\n",
    "    for user, features, target in tqdm(train_dataloader):\n",
    "        #Training Step\n",
    "        optimizer.zero_grad()\n",
    "        loss = run_step(model, loss_fn, features, target).mean()\n",
    "        loss.backward()\n",
    "        optimizer.step()\n",
    "        train_losses.append(loss.item())\n",
    "        current_train_loss.append(loss.item())\n",
    "\n",
    "        #Validation Step\n",
    "        model.train(False)\n",
    "        _, fe, ta = next(iter(validation_dataloader))\n",
    "        loss = run_step(model, loss_fn, fe, ta).mean().item()\n",
    "        validation_losses.append(loss)\n",
    "        current_eval_loss.append(loss)\n",
    "        model.train(True)\n",
    "    \n",
    "    print(f\"Finished epoch {epoch + 1}\")\n",
    "    print(f\"Training loss average = {sum(current_train_loss) / len(current_train_loss)}\")\n",
    "    print(f\"Evaluation loss average = {sum(current_eval_loss) / len(current_eval_loss)}\")\n"
   ]
  },
  {
   "cell_type": "markdown",
   "metadata": {},
   "source": [
    "# Plotting the epoch\n",
    "\n",
    "Using matplotlib to plot the result of the experiment"
   ]
  },
  {
   "cell_type": "code",
   "execution_count": 175,
   "metadata": {},
   "outputs": [
    {
     "data": {
      "image/png": "[encoded data removed]",
      "text/plain": [
       "<Figure size 640x480 with 2 Axes>"
      ]
     },
     "metadata": {},
     "output_type": "display_data"
    }
   ],
   "source": [
    "import matplotlib.pyplot as plt\n",
    "import numpy as np\n",
    "\n",
    "fig, axs = plt.subplots(2)\n",
    "\n",
    "x = list(range(1, len(train_losses) + 1))\n",
    "axs[0].plot(x, train_losses)\n",
    "\n",
    "\n",
    "x = list(range(1, len(validation_losses) + 1))\n",
    "# TODO use the median to remove outliers\n",
    "axs[1].plot(x, validation_losses)\n",
    "plt.show()"
   ]
  }
 ],
 "metadata": {
  "kernelspec": {
   "display_name": "experiments",
   "language": "python",
   "name": "python3"
  },
  "language_info": {
   "codemirror_mode": {
    "name": "ipython",
    "version": 3
   },
   "file_extension": ".py",
   "mimetype": "text/x-python",
   "name": "python",
   "nbconvert_exporter": "python",
   "pygments_lexer": "ipython3",
   "version": "3.9.20"
  }
 },
 "nbformat": 4,
 "nbformat_minor": 2
}
