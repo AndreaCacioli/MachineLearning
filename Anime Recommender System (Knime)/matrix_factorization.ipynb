{
 "cells": [
  {
   "cell_type": "markdown",
   "metadata": {},
   "source": [
    "# Objective\n",
    "\n",
    "This is one of the most used ways of creating a recommendation system.\n",
    "\n",
    "The way the model works is by finding some latent features of users and films and then multiplying them together.\n",
    "The result should be intended as the model prediction for a given user on any given film.\n",
    "\n",
    "The ideal matrix would probably look something like:\n",
    "\n",
    "$$\n",
    "\\begin{bmatrix}\n",
    "10  & 8 & 2 & 7 & 5\\\\\n",
    "1 & 7 & 8 & 9 & 5\\\\\n",
    "1 & 3 & 5 & 7 & 2\\\\\n",
    "\\end{bmatrix}\n",
    "$$\n",
    "\n",
    "Where the users are represented one for each row and on the columns we have the films.\n",
    "\n",
    "However, this does not happen quite as frequently in real life as usually people rate very few movies, and the chance of finding different users who rated the same movie is not very high. \n",
    "This results in very sparse matrices where the $\\text{No}$ means the user did not review the film:\n",
    "\n",
    "$$\n",
    "\\begin{bmatrix}\n",
    "10  & \\text{No} & \\text{No} & \\text{No} & 1\\\\\n",
    "\\text{No} & \\text{No} & 8 & \\text{No} & \\text{No}\\\\\n",
    "\\text{No} & \\text{No} & 5 & 7 & 2\\\\\n",
    "\\end{bmatrix}\n",
    "$$\n",
    "\n",
    "Ideally, we want to reduce the sparsity as much as possible.\n",
    "We can try to do this by always using all the movies rated by a user."
   ]
  },
  {
   "cell_type": "code",
   "execution_count": 1,
   "metadata": {},
   "outputs": [
    {
     "name": "stdout",
     "output_type": "stream",
     "text": [
      "using device: cuda\n"
     ]
    }
   ],
   "source": [
    "import torch as t\n",
    "import random\n",
    "import numpy as np\n",
    "\n",
    "device = \"cuda\" if t.cuda.is_available() else \"cpu\"\n",
    "#device = \"cpu\"\n",
    "print(f\"using device: {device}\")\n",
    "\n",
    "# Reproducibility -> Also ensures same train / validation / test split every time\n",
    "t.manual_seed(0)\n",
    "random.seed(0)\n",
    "np.random.seed(0)\n",
    "\n",
    "t.cuda.empty_cache()"
   ]
  },
  {
   "cell_type": "markdown",
   "metadata": {},
   "source": [
    "# Dataset\n",
    "\n",
    "The dataset uses the file \"rating_complete.csv\" taken from https://www.kaggle.com/datasets/hernan4444/anime-recommendation-database-2020\n",
    "\n",
    "A small sample of the dataset is added to the git repository for quick tinkering.\n",
    "\n",
    "The examples are going to be matrices of size $m$ rows and $n$ columns.\n",
    "\n",
    "Alongside the matrix for a given index we are also going to provide a list of users (where the user at position $i$ is the rater of the $i$th row in the matrix) and a list of the anime ids which in turns is relative to the columns.\n",
    "The model is supposed to learn anime features and user preferences all by itself."
   ]
  },
  {
   "cell_type": "code",
   "execution_count": 2,
   "metadata": {},
   "outputs": [
    {
     "name": "stdout",
     "output_type": "stream",
     "text": [
      "Reading csv from: /home/andreacacioli/Documents/github/MachineLearning/Anime Recommender System (Knime)/rating_complete.csv\n",
      "torch.Size([288, 265])\n"
     ]
    }
   ],
   "source": [
    "from pandas import read_csv\n",
    "from torch.utils.data import Dataset\n",
    "\n",
    "class AnimeReviewsDataset(Dataset):\n",
    "    def __init__(self, path, splits) -> None:\n",
    "        print(f\"Reading csv from: {path}\")\n",
    "        self.df = read_csv(path)\n",
    "        self.df = self.df.sample(frac=1, random_state=0) # Adding random state for reproducibility and dataset separation\n",
    "        self.length = self.df.shape[0] // splits\n",
    "        self.ratings = self.df['rating'].to_list()\n",
    "        self.users = self.df['user_id'].unique()\n",
    "        self.animes = self.df['anime_id'].unique()\n",
    "        self.user_conversion_table = {self.users[i]: i for i in range(len(self.users))}\n",
    "        self.anime_conversion_table = {self.animes[i]: i for i in range(len(self.animes))}\n",
    "\n",
    "    def convert_user_from_model_to_csv(self, users):\n",
    "        return [self.users[u] for u in users]\n",
    "\n",
    "    def convert_anime_from_model_to_csv(self, animes):\n",
    "        return [self.animes[a] for a in animes]\n",
    "\n",
    "\n",
    "    def convert_user_from_csv_to_model(self, users):\n",
    "        return [self.user_conversion_table[u] for u in users]\n",
    "\n",
    "    def convert_anime_from_csv_to_model(self, animes):\n",
    "        return [self.anime_conversion_table[a] for a in animes]\n",
    "\n",
    "\n",
    "    def __len__(self):\n",
    "        return self.df.shape[0] // self.length\n",
    "\n",
    "    def __getitem__(self, index):\n",
    "        df = self.df[index * self.length: index * self.length + self.length]\n",
    "        table = df.pivot_table(values='rating', index='user_id',columns='anime_id', fill_value = 0)\n",
    "        users = table.index.array.tolist()\n",
    "        users = self.convert_user_from_csv_to_model(users)\n",
    "        animes = table.columns.array.tolist()\n",
    "        animes = self.convert_anime_from_csv_to_model(animes)\n",
    "\n",
    "        return t.Tensor(users).long(), t.Tensor(animes).long(), t.Tensor(table.to_numpy()).long()\n",
    "\n",
    "\n",
    "splits = 200000\n",
    "dataset = AnimeReviewsDataset(\"/home/andreacacioli/Documents/github/MachineLearning/Anime Recommender System (Knime)/rating_complete.csv\", splits)\n",
    "print(dataset.__getitem__(100)[2].shape)"
   ]
  },
  {
   "cell_type": "markdown",
   "metadata": {},
   "source": [
    "# Data distribution visualization\n",
    "\n",
    "We now plot the data to see how the ratings are distributed"
   ]
  },
  {
   "cell_type": "code",
   "execution_count": 3,
   "metadata": {},
   "outputs": [
    {
     "data": {
      "image/png": "[encoded data removed]",
      "text/plain": [
       "<Figure size 1000x600 with 1 Axes>"
      ]
     },
     "metadata": {},
     "output_type": "display_data"
    }
   ],
   "source": [
    "import matplotlib.pyplot as plt\n",
    "\n",
    "\n",
    "x = dataset.ratings\n",
    "plt.figure(figsize=(10,6))\n",
    "plt.hist(x, bins=10, edgecolor='black') \n",
    "plt.title(\"Rating Distribution\") \n",
    "plt.xlabel(\"rating\") \n",
    "plt.ylabel(\"Frequency\") \n",
    "plt.grid(True) "
   ]
  },
  {
   "cell_type": "markdown",
   "metadata": {},
   "source": [
    "# Separate the dataset\n",
    "\n",
    "We split the dataset into training, test and validation"
   ]
  },
  {
   "cell_type": "code",
   "execution_count": 4,
   "metadata": {},
   "outputs": [
    {
     "name": "stdout",
     "output_type": "stream",
     "text": [
      "140081\n",
      "40023\n",
      "20011\n"
     ]
    }
   ],
   "source": [
    "from torch.utils.data import random_split, DataLoader\n",
    "\n",
    "train_dataset, test_dataset, validation_dataset = random_split(dataset, [0.7, 0.2, 0.1])\n",
    "\n",
    "train_dataloader = DataLoader(train_dataset, shuffle=True)\n",
    "test_dataloader = DataLoader(test_dataset, shuffle=True)\n",
    "validation_dataloader = DataLoader(validation_dataset, shuffle=True)\n",
    "\n",
    "print(len(train_dataloader))\n",
    "print(len(test_dataloader))\n",
    "print(len(validation_dataloader))"
   ]
  },
  {
   "cell_type": "markdown",
   "metadata": {},
   "source": [
    "# The Model\n",
    "\n",
    "The model attempts to learn the features of the animes and of the users by embedding them using simple embedding tables.\n",
    "This also means that the model size highly depends on the number of users and on the number of animes in the dataset.\n",
    "\n",
    "A different method could also be attempted where the embedding is done without using embedding tables."
   ]
  },
  {
   "cell_type": "code",
   "execution_count": 5,
   "metadata": {},
   "outputs": [
    {
     "name": "stdout",
     "output_type": "stream",
     "text": [
      "653.86M\n"
     ]
    }
   ],
   "source": [
    "class MLP_Predictor(t.nn.Module):\n",
    "    def __init__(self, emb_size, device) -> None:\n",
    "        super().__init__()\n",
    "        self.device = device\n",
    "        self.user_embedder = t.nn.Embedding(len(dataset.users), emb_size).to(device)\n",
    "        self.anime_embedder = t.nn.Embedding(len(dataset.animes), emb_size).to(device)\n",
    "\n",
    "    def forward(self, users, animes):\n",
    "        users, animes = users.to(self.device), animes.to(self.device)\n",
    "        # Users is [U, emb_size]\n",
    "        users = self.user_embedder(users)\n",
    "        # Users is [A, emb_size]\n",
    "        animes = self.anime_embedder(animes)\n",
    "        pred = t.nn.functional.leaky_relu(users @ animes.T)\n",
    "        return pred\n",
    "\n",
    "    def size(self):\n",
    "        def human_format(num):\n",
    "            magnitude = 0\n",
    "            while abs(num) >= 1000:\n",
    "                magnitude += 1\n",
    "                num /= 1000.0\n",
    "            # add more suffixes if you need them\n",
    "            return \"%.2f%s\" % (num, [\"\", \"K\", \"M\", \"G\", \"T\", \"P\"][magnitude])\n",
    "\n",
    "        return human_format(sum(p.numel() for p in self.parameters()))\n",
    "\n",
    "\n",
    "model = MLP_Predictor(emb_size=2000, device=device)\n",
    "print(model.size())"
   ]
  },
  {
   "cell_type": "markdown",
   "metadata": {},
   "source": [
    "# Define a generic step\n",
    "\n",
    "We perform this step regardless of the model, optimizer, or the phase we are in (training / test)"
   ]
  },
  {
   "cell_type": "code",
   "execution_count": 6,
   "metadata": {},
   "outputs": [],
   "source": [
    "def run_step(model, loss_fn, users, anime, target):\n",
    "    target = target.to(device=device).type(t.float32)\n",
    "    target = target.squeeze()\n",
    "    users = users.squeeze()\n",
    "    anime = anime.squeeze()\n",
    "    \n",
    "    x = model(users, anime)\n",
    "    #Only getting real ratings (range [1-10])\n",
    "    mask = target != 0\n",
    "    target = target[mask]\n",
    "    x = x[mask]\n",
    "    loss = loss_fn(x, target)\n",
    "    return loss, x"
   ]
  },
  {
   "cell_type": "markdown",
   "metadata": {},
   "source": [
    "# First Steps\n",
    "\n",
    "Here we check if everything is set up correctly"
   ]
  },
  {
   "cell_type": "code",
   "execution_count": 7,
   "metadata": {},
   "outputs": [
    {
     "data": {
      "text/plain": [
       "tensor(716.8777, device='cuda:0', grad_fn=<MseLossBackward0>)"
      ]
     },
     "execution_count": 7,
     "metadata": {},
     "output_type": "execute_result"
    }
   ],
   "source": [
    "loss_fn = t.nn.MSELoss()\n",
    "learning_rate = 0.0001\n",
    "optimizer = t.optim.Adam(model.parameters(), learning_rate)\n",
    "users, animes, target = next(iter(train_dataloader))\n",
    "loss, predictions = run_step(model, loss_fn, users, animes, target)\n",
    "loss"
   ]
  },
  {
   "cell_type": "markdown",
   "metadata": {},
   "source": [
    "# Loading an existing model\n",
    "\n",
    "It could be useful to start from where we left off."
   ]
  },
  {
   "cell_type": "code",
   "execution_count": 8,
   "metadata": {},
   "outputs": [
    {
     "name": "stdout",
     "output_type": "stream",
     "text": [
      "Starting from fresh: no models to load\n"
     ]
    }
   ],
   "source": [
    "import os\n",
    "\n",
    "\n",
    "def get_unique_experiment_name():\n",
    "    return model.__class__.__name__ + \"_\" + model.size()\n",
    "\n",
    "\n",
    "models_dir = \"/home/andreacacioli/Documents/github/MachineLearning/Anime Recommender System (Knime)/models/\"\n",
    "checkpoints = os.listdir(models_dir)\n",
    "unique_name = get_unique_experiment_name()\n",
    "checkpoints = [\n",
    "    f for f in checkpoints if f[: min(len(unique_name), len(f))] == unique_name\n",
    "]\n",
    "if len(checkpoints) == 0:\n",
    "    print(\"Starting from fresh: no models to load\")\n",
    "    epoch = 0\n",
    "else:\n",
    "    checkpoints.sort(key=lambda x: int(x[x.index(\"-\") + 1 : -3]), reverse=True)\n",
    "\n",
    "    epoch = int(checkpoints[0][checkpoints[0].index(\"-\") + 1 : -3])\n",
    "    print(f\"Loading from {models_dir + checkpoints[0]}\")\n",
    "    model.load_state_dict(t.load(models_dir + checkpoints[0], weights_only=True))\n",
    "    print(f\"Loaded epoch {epoch}\")"
   ]
  },
  {
   "cell_type": "markdown",
   "metadata": {},
   "source": [
    "# Training Loop\n",
    "\n",
    "We set up a simple training loot that uses the validation and training sets to train the model"
   ]
  },
  {
   "cell_type": "code",
   "execution_count": 10,
   "metadata": {},
   "outputs": [
    {
     "name": "stdout",
     "output_type": "stream",
     "text": [
      "Finished epoch 1\n",
      "Training loss average = 488.8162841796875\n",
      "Evaluation loss average = 603.9359130859375\n",
      "Current Best Epoch: 1: Validation Loss: 326.1973571777344\n",
      "Going back to epoch 1: validation loss: 326.1973571777344\n"
     ]
    }
   ],
   "source": [
    "from tqdm import tqdm\n",
    "from IPython.display import clear_output\n",
    "import copy\n",
    "\n",
    "train_losses = []\n",
    "validation_losses = []\n",
    "\n",
    "EVAL_EVERY = 10 # Only running evaluation step every 10 training steps\n",
    "\n",
    "epochs = epoch + 2 # Set this to the number of training epochs you want to perform\n",
    "\n",
    "with t.no_grad(): # To initialize the eval loss before training\n",
    "    model.eval()\n",
    "    us, an, ta = next(iter(validation_dataloader))\n",
    "    loss, _ = run_step(model, loss_fn, us, an, ta)\n",
    "    loss = loss.item()\n",
    "    best_eval_loss = loss\n",
    "    best_epoch = -1\n",
    "    model.train()\n",
    "\n",
    "while epoch < epochs:\n",
    "    current_train_loss = t.empty(0, device=\"cpu\")\n",
    "    current_eval_loss = t.empty(0, device=\"cpu\")\n",
    "\n",
    "    i = 0\n",
    "    for users, animes, target in tqdm(train_dataloader):\n",
    "        #Training Step\n",
    "        optimizer.zero_grad()\n",
    "        loss, _ = run_step(model, loss_fn, users, animes, target)\n",
    "        loss.backward()\n",
    "        optimizer.step()\n",
    "        current_train_loss = t.cat((current_train_loss, loss.to(\"cpu\").unsqueeze(0)))\n",
    "\n",
    "        if i == 0:\n",
    "            #Validation Step\n",
    "            with t.no_grad():\n",
    "                model.eval()\n",
    "                us, an, ta = next(iter(validation_dataloader))\n",
    "                loss, _ = run_step(model, loss_fn, us, an, ta)\n",
    "                current_eval_loss = t.cat((current_eval_loss, loss.to(\"cpu\").unsqueeze(0)))\n",
    "                loss = loss.item()\n",
    "                if loss < best_eval_loss: # Getting the best model\n",
    "                    best_eval_loss = loss\n",
    "                    best_model = copy.deepcopy(model)\n",
    "                    best_epoch = epoch\n",
    "                model.train()\n",
    "        i = (i + 1) % EVAL_EVERY\n",
    "\n",
    "    train_losses = train_losses + current_train_loss.tolist()\n",
    "    validation_losses = validation_losses + current_eval_loss.tolist()\n",
    "    \n",
    "    clear_output()\n",
    "    print(f\"Finished epoch {epoch}\")\n",
    "    print(\n",
    "        f\"Training loss average = {sum(current_train_loss) / len(current_train_loss)}\"\n",
    "    )\n",
    "    eval_loss = sum(current_eval_loss) / len(current_eval_loss)\n",
    "    print(f\"Evaluation loss average = {eval_loss}\")\n",
    "    print(f\"Current Best Epoch: {best_epoch}: Validation Loss: {best_eval_loss}\")\n",
    "    epoch += 1\n",
    "\n",
    "print(f\"Going back to epoch {best_epoch}: validation loss: {best_eval_loss}\")\n",
    "model = best_model\n",
    "epoch = best_epoch"
   ]
  },
  {
   "cell_type": "code",
   "execution_count": 11,
   "metadata": {},
   "outputs": [
    {
     "data": {
      "text/plain": [
       "MLP_Predictor(\n",
       "  (user_embedder): Embedding(310059, 2000)\n",
       "  (anime_embedder): Embedding(16872, 2000)\n",
       ")"
      ]
     },
     "execution_count": 11,
     "metadata": {},
     "output_type": "execute_result"
    }
   ],
   "source": [
    "if best_model is not None:\n",
    "    model = best_model\n",
    "    epoch = best_epoch\n",
    "model"
   ]
  },
  {
   "cell_type": "markdown",
   "metadata": {},
   "source": [
    "# Plotting the epochs\n",
    "\n",
    "Using matplotlib to plot the result of the experiment"
   ]
  },
  {
   "cell_type": "code",
   "execution_count": 12,
   "metadata": {},
   "outputs": [
    {
     "data": {
      "image/png": "[encoded data removed]",
      "text/plain": [
       "<Figure size 640x480 with 2 Axes>"
      ]
     },
     "metadata": {},
     "output_type": "display_data"
    }
   ],
   "source": [
    "import matplotlib.pyplot as plt\n",
    "\n",
    "fig, axs = plt.subplots(2)\n",
    "\n",
    "x = list(range(1, len(train_losses) + 1))\n",
    "axs[0].plot(x, train_losses)\n",
    "\n",
    "\n",
    "x = list(range(1, len(validation_losses) + 1))\n",
    "axs[1].plot(x, validation_losses)\n",
    "plt.show()"
   ]
  },
  {
   "cell_type": "markdown",
   "metadata": {},
   "source": [
    "# Saving the model\n",
    "\n",
    "As long as we are carrying out the same experiment we should be able to save and load the model.\n",
    "This saves a lot of time and allows us to restart from where we left off the previous time."
   ]
  },
  {
   "cell_type": "code",
   "execution_count": 13,
   "metadata": {},
   "outputs": [],
   "source": [
    "t.save(\n",
    "    model.state_dict(),\n",
    "    f\"/home/andreacacioli/Documents/github/MachineLearning/Anime Recommender System (Knime)/models/{get_unique_experiment_name()}_epoch-{epoch}.pt\",\n",
    ")"
   ]
  },
  {
   "cell_type": "markdown",
   "metadata": {},
   "source": [
    "# Testing\n",
    "\n",
    "Iterating over the test set we can see how the model predicts user preferences on unseen user data."
   ]
  },
  {
   "cell_type": "code",
   "execution_count": 14,
   "metadata": {},
   "outputs": [
    {
     "name": "stderr",
     "output_type": "stream",
     "text": [
      "100%|██████████| 40023/40023 [01:38<00:00, 405.69it/s]\n"
     ]
    }
   ],
   "source": [
    "from tqdm import tqdm\n",
    "\n",
    "test_losses = []\n",
    "y_true = []\n",
    "y_pred = []\n",
    "\n",
    "with t.no_grad():\n",
    "    model.eval()\n",
    "    for users, animes, target in tqdm(test_dataloader):\n",
    "        loss, prediction_table = run_step(model, loss_fn, users, animes, target)\n",
    "        loss = loss.item()\n",
    "        test_losses.append(loss)\n",
    "\n",
    "        #Only getting predictions we know to be true\n",
    "        mask = target != 0\n",
    "        target = target[mask].tolist()\n",
    "        # prediction table has already been masked\n",
    "        prediction_table = prediction_table.tolist()\n",
    "\n",
    "        y_true += target\n",
    "        y_pred += [round(pred) for pred in prediction_table]"
   ]
  },
  {
   "cell_type": "code",
   "execution_count": 15,
   "metadata": {},
   "outputs": [
    {
     "name": "stdout",
     "output_type": "stream",
     "text": [
      "Average test loss: 553.8752825905012\n",
      "R2 Score: -190.87302244284768\n",
      "On average the model gets it wrong by 15.73252766811861 votes\n"
     ]
    }
   ],
   "source": [
    "from sklearn.metrics import r2_score, mean_absolute_error\n",
    "print(f\"Average test loss: {sum(test_losses) / len(test_losses)}\")\n",
    "print(f\"R2 Score: {r2_score(y_true,y_pred)}\")\n",
    "print(f\"On average the model gets it wrong by {mean_absolute_error(y_true, y_pred)} votes\")"
   ]
  }
 ],
 "metadata": {
  "kernelspec": {
   "display_name": "experiments",
   "language": "python",
   "name": "python3"
  },
  "language_info": {
   "codemirror_mode": {
    "name": "ipython",
    "version": 3
   },
   "file_extension": ".py",
   "mimetype": "text/x-python",
   "name": "python",
   "nbconvert_exporter": "python",
   "pygments_lexer": "ipython3",
   "version": "3.9.20"
  }
 },
 "nbformat": 4,
 "nbformat_minor": 2
}
