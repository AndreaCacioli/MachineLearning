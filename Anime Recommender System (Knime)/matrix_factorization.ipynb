{
 "cells": [
  {
   "cell_type": "markdown",
   "metadata": {},
   "source": [
    "# Objective\n",
    "\n",
    "This is one of the most used ways of creating a recommendation system.\n",
    "\n",
    "The way the model works is by finding some latent features of users and films and then multiplying them together.\n",
    "The result should be intended as the model prediction for a given user on any given film.\n",
    "\n",
    "The ideal matrix would probably look something like:\n",
    "\n",
    "$$\n",
    "\\begin{bmatrix}\n",
    "10  & 8 & 2 & 7 & 5\\\\\n",
    "1 & 7 & 8 & 9 & 5\\\\\n",
    "1 & 3 & 5 & 7 & 2\\\\\n",
    "\\end{bmatrix}\n",
    "$$\n",
    "\n",
    "Where the users are represented one for each row and on the columns we have the films.\n",
    "\n",
    "However, this does not happen quite as frequently in real life as usually people rate very few movies, and the chance of finding different users who rated the same movie is not very high. \n",
    "This results in very sparse matrices where the $\\text{No}$ means the user did not review the film:\n",
    "\n",
    "$$\n",
    "\\begin{bmatrix}\n",
    "10  & \\text{No} & \\text{No} & \\text{No} & 1\\\\\n",
    "\\text{No} & \\text{No} & 8 & \\text{No} & \\text{No}\\\\\n",
    "\\text{No} & \\text{No} & 5 & 7 & 2\\\\\n",
    "\\end{bmatrix}\n",
    "$$\n",
    "\n",
    "Ideally, we want to reduce the sparsity as much as possible.\n",
    "We can try to do this by always using all the movies rated by a user."
   ]
  },
  {
   "cell_type": "code",
   "execution_count": 1,
   "metadata": {},
   "outputs": [
    {
     "name": "stdout",
     "output_type": "stream",
     "text": [
      "using device: cuda\n"
     ]
    }
   ],
   "source": [
    "import torch as t\n",
    "import random\n",
    "import numpy as np\n",
    "\n",
    "device = \"cuda\" if t.cuda.is_available() else \"cpu\"\n",
    "print(f\"using device: {device}\")\n",
    "\n",
    "# Reproducibility -> Also ensures same train / validation / test split every time\n",
    "t.manual_seed(0)\n",
    "random.seed(0)\n",
    "np.random.seed(0)"
   ]
  },
  {
   "cell_type": "markdown",
   "metadata": {},
   "source": [
    "# Dataset\n",
    "\n",
    "The dataset uses the file \"rating_complete.csv\" taken from https://www.kaggle.com/datasets/hernan4444/anime-recommendation-database-2020\n",
    "\n",
    "A sample of the dataset is added to the git repository for quick tinkering.\n",
    "\n",
    "The examples are going to be matrices of size $m$ rows and $n$ columns.\n",
    "\n",
    "Alongside the matrix for a given index we are also going to provide a list of users (where the user at position $i$ is the rater of the $i$th row in the matrix) and a list of the anime ids which in turns is relative to the columns.\n",
    "The model is supposed to learn anime features and user preferences all by itself."
   ]
  },
  {
   "cell_type": "code",
   "execution_count": 2,
   "metadata": {},
   "outputs": [
    {
     "name": "stdout",
     "output_type": "stream",
     "text": [
      "Reading csv from: /home/andreacacioli/Documents/github/MachineLearning/Anime Recommender System (Knime)/rating_complete_short.csv\n",
      "[    30     67     74 ... 353352 353383 353395]\n"
     ]
    }
   ],
   "source": [
    "from pandas import read_csv\n",
    "from torch.utils.data import Dataset\n",
    "\n",
    "class AnimeReviewsDataset(Dataset):\n",
    "    def __init__(self, path, splits) -> None:\n",
    "        print(f\"Reading csv from: {path}\")\n",
    "        self.df = read_csv(path)\n",
    "        self.length = self.df.shape[0] // splits\n",
    "        self.ratings = self.df['rating'].to_list()\n",
    "        self.users = self.df['user_id'].unique()\n",
    "        self.animes = self.df['anime_id'].unique()\n",
    "        self.user_conversion_table = {self.users[i]: i for i in range(len(self.users))}\n",
    "        self.anime_conversion_table = {self.animes[i]: i for i in range(len(self.animes))}\n",
    "\n",
    "    def convert_user_from_model_to_csv(self, users):\n",
    "        return [self.users[u] for u in users]\n",
    "\n",
    "    def convert_anime_from_model_to_csv(self, animes):\n",
    "        return [self.animes[a] for a in animes]\n",
    "\n",
    "\n",
    "    def convert_user_from_csv_to_model(self, users):\n",
    "        return [self.user_conversion_table[u] for u in users]\n",
    "\n",
    "    def convert_anime_from_csv_to_model(self, animes):\n",
    "        return [self.anime_conversion_table[a] for a in animes]\n",
    "\n",
    "\n",
    "    def __len__(self):\n",
    "        return self.df.shape[0] // self.length\n",
    "\n",
    "    def __getitem__(self, index):\n",
    "        df = self.df[index * self.length: index * self.length + self.length]\n",
    "        table = df.pivot_table(values='rating', index='user_id',columns='anime_id', fill_value = 0)\n",
    "        users = table.index.array.tolist()\n",
    "        users = self.convert_user_from_csv_to_model(users)\n",
    "        animes = table.columns.array.tolist()\n",
    "        animes = self.convert_anime_from_csv_to_model(animes)\n",
    "\n",
    "        return t.Tensor(users).long(), t.Tensor(animes).long(), t.Tensor(table.to_numpy()).long()\n",
    "\n",
    "\n",
    "splits = 20\n",
    "dataset = AnimeReviewsDataset(\"/home/andreacacioli/Documents/github/MachineLearning/Anime Recommender System (Knime)/rating_complete_short.csv\", splits)\n",
    "print(dataset.users)"
   ]
  },
  {
   "cell_type": "markdown",
   "metadata": {},
   "source": [
    "# Data distribution visualization\n",
    "\n",
    "We now plot the data to see how the ratings are distributed"
   ]
  },
  {
   "cell_type": "code",
   "execution_count": 3,
   "metadata": {},
   "outputs": [
    {
     "data": {
      "image/png": "[encoded data removed]",
      "text/plain": [
       "<Figure size 1000x600 with 1 Axes>"
      ]
     },
     "metadata": {},
     "output_type": "display_data"
    }
   ],
   "source": [
    "import matplotlib.pyplot as plt\n",
    "\n",
    "\n",
    "x = dataset.ratings\n",
    "plt.figure(figsize=(10,6))\n",
    "plt.hist(x, bins=10, edgecolor='black') \n",
    "plt.title(\"Rating Distribution\") \n",
    "plt.xlabel(\"rating\") \n",
    "plt.ylabel(\"Frequency\") \n",
    "plt.grid(True) "
   ]
  },
  {
   "cell_type": "markdown",
   "metadata": {},
   "source": [
    "# Separate the dataset\n",
    "\n",
    "We split the dataset into training, test and validation"
   ]
  },
  {
   "cell_type": "code",
   "execution_count": 4,
   "metadata": {},
   "outputs": [
    {
     "name": "stdout",
     "output_type": "stream",
     "text": [
      "14\n",
      "4\n",
      "2\n"
     ]
    }
   ],
   "source": [
    "from torch.utils.data import random_split, DataLoader\n",
    "\n",
    "train_dataset, test_dataset, validation_dataset = random_split(dataset, [0.7, 0.2, 0.1])\n",
    "\n",
    "train_dataloader = DataLoader(train_dataset, shuffle=True)\n",
    "test_dataloader = DataLoader(test_dataset, shuffle=True)\n",
    "validation_dataloader = DataLoader(validation_dataset, shuffle=True)\n",
    "\n",
    "print(len(train_dataloader))\n",
    "print(len(test_dataloader))\n",
    "print(len(validation_dataloader))"
   ]
  },
  {
   "cell_type": "markdown",
   "metadata": {},
   "source": [
    "# The Model\n",
    "\n",
    "Now it is time to build the model that predicts the value of a rating given the features"
   ]
  },
  {
   "cell_type": "code",
   "execution_count": 5,
   "metadata": {},
   "outputs": [
    {
     "name": "stdout",
     "output_type": "stream",
     "text": [
      "25.95M\n"
     ]
    }
   ],
   "source": [
    "class MLP_Predictor(t.nn.Module):\n",
    "    def __init__(self, emb_size, device) -> None:\n",
    "        super().__init__()\n",
    "        self.device = device\n",
    "        self.user_embedder = t.nn.Embedding(len(dataset.users), emb_size).to(device)\n",
    "        self.anime_embedder = t.nn.Embedding(len(dataset.animes), emb_size).to(device)\n",
    "\n",
    "    def forward(self, users, animes):\n",
    "        users, animes = users.to(self.device), animes.to(self.device)\n",
    "        # Users is [U, emb_size]\n",
    "        users = self.user_embedder(users)\n",
    "        # Users is [A, emb_size]\n",
    "        animes = self.anime_embedder(animes)\n",
    "        return users @ animes.T\n",
    "\n",
    "    def size(self):\n",
    "        def human_format(num):\n",
    "            magnitude = 0\n",
    "            while abs(num) >= 1000:\n",
    "                magnitude += 1\n",
    "                num /= 1000.0\n",
    "            # add more suffixes if you need them\n",
    "            return \"%.2f%s\" % (num, [\"\", \"K\", \"M\", \"G\", \"T\", \"P\"][magnitude])\n",
    "\n",
    "        return human_format(sum(p.numel() for p in self.parameters()))\n",
    "\n",
    "\n",
    "model = MLP_Predictor(emb_size=2000, device=device)\n",
    "print(model.size())"
   ]
  },
  {
   "cell_type": "markdown",
   "metadata": {},
   "source": [
    "# Define a generic step\n",
    "\n",
    "We perform this step regardless of the model, optimizer, or the phase we are in (training / test)"
   ]
  },
  {
   "cell_type": "code",
   "execution_count": 6,
   "metadata": {},
   "outputs": [],
   "source": [
    "def run_step(model, loss_fn, users, anime, target):\n",
    "    target = target.to(device=device).type(t.float32)\n",
    "    target = target.squeeze()\n",
    "    users = users.squeeze()\n",
    "    anime = anime.squeeze()\n",
    "    \n",
    "    x = model(users, anime)\n",
    "    #Only getting real ratings (range [1-9])\n",
    "    mask = target != 0\n",
    "    target = target[mask]\n",
    "    x = x[mask]\n",
    "    loss = loss_fn(x, target)\n",
    "    return loss, x"
   ]
  },
  {
   "cell_type": "markdown",
   "metadata": {},
   "source": [
    "# First Steps\n",
    "\n",
    "Here we check if everything is set up correctly"
   ]
  },
  {
   "cell_type": "code",
   "execution_count": 7,
   "metadata": {},
   "outputs": [
    {
     "data": {
      "text/plain": [
       "tensor(2270.9365, device='cuda:0', grad_fn=<MseLossBackward0>)"
      ]
     },
     "execution_count": 7,
     "metadata": {},
     "output_type": "execute_result"
    }
   ],
   "source": [
    "loss_fn = t.nn.MSELoss()\n",
    "learning_rate = 0.0001\n",
    "optimizer = t.optim.Adam(model.parameters(), learning_rate)\n",
    "users, animes, target = next(iter(train_dataloader))\n",
    "loss, predictions = run_step(model, loss_fn, users, animes, target)\n",
    "loss"
   ]
  },
  {
   "cell_type": "markdown",
   "metadata": {},
   "source": [
    "# Loading an existing model\n",
    "\n",
    "It could be useful to start from where we left off."
   ]
  },
  {
   "cell_type": "code",
   "execution_count": 8,
   "metadata": {},
   "outputs": [
    {
     "name": "stdout",
     "output_type": "stream",
     "text": [
      "Starting from fresh: no models to load\n"
     ]
    }
   ],
   "source": [
    "import os\n",
    "\n",
    "\n",
    "def get_unique_experiment_name():\n",
    "    return model.__class__.__name__ + \"_\" + model.size()\n",
    "\n",
    "\n",
    "models_dir = \"/home/andreacacioli/Documents/github/MachineLearning/Anime Recommender System (Knime)/models/\"\n",
    "checkpoints = os.listdir(models_dir)\n",
    "unique_name = get_unique_experiment_name()\n",
    "checkpoints = [\n",
    "    f for f in checkpoints if f[: min(len(unique_name), len(f))] == unique_name\n",
    "]\n",
    "if len(checkpoints) == 0:\n",
    "    print(\"Starting from fresh: no models to load\")\n",
    "    epoch = 0\n",
    "else:\n",
    "    checkpoints.sort(key=lambda x: int(x[x.index(\"-\") + 1 : -3]), reverse=True)\n",
    "\n",
    "    epoch = int(checkpoints[0][checkpoints[0].index(\"-\") + 1 : -3])\n",
    "    print(f\"Loading from {models_dir + checkpoints[0]}\")\n",
    "    model.load_state_dict(t.load(models_dir + checkpoints[0], weights_only=True))\n",
    "    print(f\"Loaded epoch {epoch}\")"
   ]
  },
  {
   "cell_type": "markdown",
   "metadata": {},
   "source": [
    "# Training Loop\n",
    "\n",
    "We set up a simple training loot that uses the validation and training sets to train the model"
   ]
  },
  {
   "cell_type": "code",
   "execution_count": 9,
   "metadata": {},
   "outputs": [
    {
     "name": "stdout",
     "output_type": "stream",
     "text": [
      "Finished epoch 476\n",
      "Training loss average = 0.008214197121560574\n",
      "Evaluation loss average = 2075.97314453125\n",
      "Current Best Epoch: 30: Validation Loss: 1791.921875\n"
     ]
    },
    {
     "name": "stderr",
     "output_type": "stream",
     "text": [
      " 43%|████▎     | 6/14 [00:00<00:00, 136.93it/s]\n"
     ]
    },
    {
     "ename": "KeyboardInterrupt",
     "evalue": "",
     "output_type": "error",
     "traceback": [
      "\u001b[0;31m---------------------------------------------------------------------------\u001b[0m",
      "\u001b[0;31mKeyboardInterrupt\u001b[0m                         Traceback (most recent call last)",
      "Cell \u001b[0;32mIn[9], line 26\u001b[0m\n\u001b[1;32m     23\u001b[0m current_eval_loss \u001b[38;5;241m=\u001b[39m t\u001b[38;5;241m.\u001b[39mempty(\u001b[38;5;241m0\u001b[39m, device\u001b[38;5;241m=\u001b[39m\u001b[38;5;124m\"\u001b[39m\u001b[38;5;124mcpu\u001b[39m\u001b[38;5;124m\"\u001b[39m)\n\u001b[1;32m     25\u001b[0m i \u001b[38;5;241m=\u001b[39m \u001b[38;5;241m0\u001b[39m\n\u001b[0;32m---> 26\u001b[0m \u001b[38;5;28;01mfor\u001b[39;00m users, animes, target \u001b[38;5;129;01min\u001b[39;00m tqdm(train_dataloader):\n\u001b[1;32m     27\u001b[0m     \u001b[38;5;66;03m#Training Step\u001b[39;00m\n\u001b[1;32m     28\u001b[0m     optimizer\u001b[38;5;241m.\u001b[39mzero_grad()\n\u001b[1;32m     29\u001b[0m     loss, _ \u001b[38;5;241m=\u001b[39m run_step(model, loss_fn, users, animes, target)\n",
      "File \u001b[0;32m~/miniconda3/envs/experiments/lib/python3.9/site-packages/tqdm/std.py:1181\u001b[0m, in \u001b[0;36mtqdm.__iter__\u001b[0;34m(self)\u001b[0m\n\u001b[1;32m   1178\u001b[0m time \u001b[38;5;241m=\u001b[39m \u001b[38;5;28mself\u001b[39m\u001b[38;5;241m.\u001b[39m_time\n\u001b[1;32m   1180\u001b[0m \u001b[38;5;28;01mtry\u001b[39;00m:\n\u001b[0;32m-> 1181\u001b[0m     \u001b[38;5;28;01mfor\u001b[39;00m obj \u001b[38;5;129;01min\u001b[39;00m iterable:\n\u001b[1;32m   1182\u001b[0m         \u001b[38;5;28;01myield\u001b[39;00m obj\n\u001b[1;32m   1183\u001b[0m         \u001b[38;5;66;03m# Update and possibly print the progressbar.\u001b[39;00m\n\u001b[1;32m   1184\u001b[0m         \u001b[38;5;66;03m# Note: does not call self.update(1) for speed optimisation.\u001b[39;00m\n",
      "File \u001b[0;32m~/miniconda3/envs/experiments/lib/python3.9/site-packages/torch/utils/data/dataloader.py:701\u001b[0m, in \u001b[0;36m_BaseDataLoaderIter.__next__\u001b[0;34m(self)\u001b[0m\n\u001b[1;32m    698\u001b[0m \u001b[38;5;28;01mif\u001b[39;00m \u001b[38;5;28mself\u001b[39m\u001b[38;5;241m.\u001b[39m_sampler_iter \u001b[38;5;129;01mis\u001b[39;00m \u001b[38;5;28;01mNone\u001b[39;00m:\n\u001b[1;32m    699\u001b[0m     \u001b[38;5;66;03m# TODO(https://github.com/pytorch/pytorch/issues/76750)\u001b[39;00m\n\u001b[1;32m    700\u001b[0m     \u001b[38;5;28mself\u001b[39m\u001b[38;5;241m.\u001b[39m_reset()  \u001b[38;5;66;03m# type: ignore[call-arg]\u001b[39;00m\n\u001b[0;32m--> 701\u001b[0m data \u001b[38;5;241m=\u001b[39m \u001b[38;5;28;43mself\u001b[39;49m\u001b[38;5;241;43m.\u001b[39;49m\u001b[43m_next_data\u001b[49m\u001b[43m(\u001b[49m\u001b[43m)\u001b[49m\n\u001b[1;32m    702\u001b[0m \u001b[38;5;28mself\u001b[39m\u001b[38;5;241m.\u001b[39m_num_yielded \u001b[38;5;241m+\u001b[39m\u001b[38;5;241m=\u001b[39m \u001b[38;5;241m1\u001b[39m\n\u001b[1;32m    703\u001b[0m \u001b[38;5;28;01mif\u001b[39;00m (\n\u001b[1;32m    704\u001b[0m     \u001b[38;5;28mself\u001b[39m\u001b[38;5;241m.\u001b[39m_dataset_kind \u001b[38;5;241m==\u001b[39m _DatasetKind\u001b[38;5;241m.\u001b[39mIterable\n\u001b[1;32m    705\u001b[0m     \u001b[38;5;129;01mand\u001b[39;00m \u001b[38;5;28mself\u001b[39m\u001b[38;5;241m.\u001b[39m_IterableDataset_len_called \u001b[38;5;129;01mis\u001b[39;00m \u001b[38;5;129;01mnot\u001b[39;00m \u001b[38;5;28;01mNone\u001b[39;00m\n\u001b[1;32m    706\u001b[0m     \u001b[38;5;129;01mand\u001b[39;00m \u001b[38;5;28mself\u001b[39m\u001b[38;5;241m.\u001b[39m_num_yielded \u001b[38;5;241m>\u001b[39m \u001b[38;5;28mself\u001b[39m\u001b[38;5;241m.\u001b[39m_IterableDataset_len_called\n\u001b[1;32m    707\u001b[0m ):\n",
      "File \u001b[0;32m~/miniconda3/envs/experiments/lib/python3.9/site-packages/torch/utils/data/dataloader.py:757\u001b[0m, in \u001b[0;36m_SingleProcessDataLoaderIter._next_data\u001b[0;34m(self)\u001b[0m\n\u001b[1;32m    755\u001b[0m \u001b[38;5;28;01mdef\u001b[39;00m \u001b[38;5;21m_next_data\u001b[39m(\u001b[38;5;28mself\u001b[39m):\n\u001b[1;32m    756\u001b[0m     index \u001b[38;5;241m=\u001b[39m \u001b[38;5;28mself\u001b[39m\u001b[38;5;241m.\u001b[39m_next_index()  \u001b[38;5;66;03m# may raise StopIteration\u001b[39;00m\n\u001b[0;32m--> 757\u001b[0m     data \u001b[38;5;241m=\u001b[39m \u001b[38;5;28;43mself\u001b[39;49m\u001b[38;5;241;43m.\u001b[39;49m\u001b[43m_dataset_fetcher\u001b[49m\u001b[38;5;241;43m.\u001b[39;49m\u001b[43mfetch\u001b[49m\u001b[43m(\u001b[49m\u001b[43mindex\u001b[49m\u001b[43m)\u001b[49m  \u001b[38;5;66;03m# may raise StopIteration\u001b[39;00m\n\u001b[1;32m    758\u001b[0m     \u001b[38;5;28;01mif\u001b[39;00m \u001b[38;5;28mself\u001b[39m\u001b[38;5;241m.\u001b[39m_pin_memory:\n\u001b[1;32m    759\u001b[0m         data \u001b[38;5;241m=\u001b[39m _utils\u001b[38;5;241m.\u001b[39mpin_memory\u001b[38;5;241m.\u001b[39mpin_memory(data, \u001b[38;5;28mself\u001b[39m\u001b[38;5;241m.\u001b[39m_pin_memory_device)\n",
      "File \u001b[0;32m~/miniconda3/envs/experiments/lib/python3.9/site-packages/torch/utils/data/_utils/fetch.py:50\u001b[0m, in \u001b[0;36m_MapDatasetFetcher.fetch\u001b[0;34m(self, possibly_batched_index)\u001b[0m\n\u001b[1;32m     48\u001b[0m \u001b[38;5;28;01mif\u001b[39;00m \u001b[38;5;28mself\u001b[39m\u001b[38;5;241m.\u001b[39mauto_collation:\n\u001b[1;32m     49\u001b[0m     \u001b[38;5;28;01mif\u001b[39;00m \u001b[38;5;28mhasattr\u001b[39m(\u001b[38;5;28mself\u001b[39m\u001b[38;5;241m.\u001b[39mdataset, \u001b[38;5;124m\"\u001b[39m\u001b[38;5;124m__getitems__\u001b[39m\u001b[38;5;124m\"\u001b[39m) \u001b[38;5;129;01mand\u001b[39;00m \u001b[38;5;28mself\u001b[39m\u001b[38;5;241m.\u001b[39mdataset\u001b[38;5;241m.\u001b[39m__getitems__:\n\u001b[0;32m---> 50\u001b[0m         data \u001b[38;5;241m=\u001b[39m \u001b[38;5;28;43mself\u001b[39;49m\u001b[38;5;241;43m.\u001b[39;49m\u001b[43mdataset\u001b[49m\u001b[38;5;241;43m.\u001b[39;49m\u001b[43m__getitems__\u001b[49m\u001b[43m(\u001b[49m\u001b[43mpossibly_batched_index\u001b[49m\u001b[43m)\u001b[49m\n\u001b[1;32m     51\u001b[0m     \u001b[38;5;28;01melse\u001b[39;00m:\n\u001b[1;32m     52\u001b[0m         data \u001b[38;5;241m=\u001b[39m [\u001b[38;5;28mself\u001b[39m\u001b[38;5;241m.\u001b[39mdataset[idx] \u001b[38;5;28;01mfor\u001b[39;00m idx \u001b[38;5;129;01min\u001b[39;00m possibly_batched_index]\n",
      "File \u001b[0;32m~/miniconda3/envs/experiments/lib/python3.9/site-packages/torch/utils/data/dataset.py:420\u001b[0m, in \u001b[0;36mSubset.__getitems__\u001b[0;34m(self, indices)\u001b[0m\n\u001b[1;32m    418\u001b[0m     \u001b[38;5;28;01mreturn\u001b[39;00m \u001b[38;5;28mself\u001b[39m\u001b[38;5;241m.\u001b[39mdataset\u001b[38;5;241m.\u001b[39m__getitems__([\u001b[38;5;28mself\u001b[39m\u001b[38;5;241m.\u001b[39mindices[idx] \u001b[38;5;28;01mfor\u001b[39;00m idx \u001b[38;5;129;01min\u001b[39;00m indices])  \u001b[38;5;66;03m# type: ignore[attr-defined]\u001b[39;00m\n\u001b[1;32m    419\u001b[0m \u001b[38;5;28;01melse\u001b[39;00m:\n\u001b[0;32m--> 420\u001b[0m     \u001b[38;5;28;01mreturn\u001b[39;00m [\u001b[38;5;28mself\u001b[39m\u001b[38;5;241m.\u001b[39mdataset[\u001b[38;5;28mself\u001b[39m\u001b[38;5;241m.\u001b[39mindices[idx]] \u001b[38;5;28;01mfor\u001b[39;00m idx \u001b[38;5;129;01min\u001b[39;00m indices]\n",
      "File \u001b[0;32m~/miniconda3/envs/experiments/lib/python3.9/site-packages/torch/utils/data/dataset.py:420\u001b[0m, in \u001b[0;36m<listcomp>\u001b[0;34m(.0)\u001b[0m\n\u001b[1;32m    418\u001b[0m     \u001b[38;5;28;01mreturn\u001b[39;00m \u001b[38;5;28mself\u001b[39m\u001b[38;5;241m.\u001b[39mdataset\u001b[38;5;241m.\u001b[39m__getitems__([\u001b[38;5;28mself\u001b[39m\u001b[38;5;241m.\u001b[39mindices[idx] \u001b[38;5;28;01mfor\u001b[39;00m idx \u001b[38;5;129;01min\u001b[39;00m indices])  \u001b[38;5;66;03m# type: ignore[attr-defined]\u001b[39;00m\n\u001b[1;32m    419\u001b[0m \u001b[38;5;28;01melse\u001b[39;00m:\n\u001b[0;32m--> 420\u001b[0m     \u001b[38;5;28;01mreturn\u001b[39;00m [\u001b[38;5;28;43mself\u001b[39;49m\u001b[38;5;241;43m.\u001b[39;49m\u001b[43mdataset\u001b[49m\u001b[43m[\u001b[49m\u001b[38;5;28;43mself\u001b[39;49m\u001b[38;5;241;43m.\u001b[39;49m\u001b[43mindices\u001b[49m\u001b[43m[\u001b[49m\u001b[43midx\u001b[49m\u001b[43m]\u001b[49m\u001b[43m]\u001b[49m \u001b[38;5;28;01mfor\u001b[39;00m idx \u001b[38;5;129;01min\u001b[39;00m indices]\n",
      "Cell \u001b[0;32mIn[2], line 34\u001b[0m, in \u001b[0;36mAnimeReviewsDataset.__getitem__\u001b[0;34m(self, index)\u001b[0m\n\u001b[1;32m     32\u001b[0m \u001b[38;5;28;01mdef\u001b[39;00m \u001b[38;5;21m__getitem__\u001b[39m(\u001b[38;5;28mself\u001b[39m, index):\n\u001b[1;32m     33\u001b[0m     df \u001b[38;5;241m=\u001b[39m \u001b[38;5;28mself\u001b[39m\u001b[38;5;241m.\u001b[39mdf[index \u001b[38;5;241m*\u001b[39m \u001b[38;5;28mself\u001b[39m\u001b[38;5;241m.\u001b[39mlength: index \u001b[38;5;241m*\u001b[39m \u001b[38;5;28mself\u001b[39m\u001b[38;5;241m.\u001b[39mlength \u001b[38;5;241m+\u001b[39m \u001b[38;5;28mself\u001b[39m\u001b[38;5;241m.\u001b[39mlength]\n\u001b[0;32m---> 34\u001b[0m     table \u001b[38;5;241m=\u001b[39m \u001b[43mdf\u001b[49m\u001b[38;5;241;43m.\u001b[39;49m\u001b[43mpivot_table\u001b[49m\u001b[43m(\u001b[49m\u001b[43mvalues\u001b[49m\u001b[38;5;241;43m=\u001b[39;49m\u001b[38;5;124;43m'\u001b[39;49m\u001b[38;5;124;43mrating\u001b[39;49m\u001b[38;5;124;43m'\u001b[39;49m\u001b[43m,\u001b[49m\u001b[43m \u001b[49m\u001b[43mindex\u001b[49m\u001b[38;5;241;43m=\u001b[39;49m\u001b[38;5;124;43m'\u001b[39;49m\u001b[38;5;124;43muser_id\u001b[39;49m\u001b[38;5;124;43m'\u001b[39;49m\u001b[43m,\u001b[49m\u001b[43mcolumns\u001b[49m\u001b[38;5;241;43m=\u001b[39;49m\u001b[38;5;124;43m'\u001b[39;49m\u001b[38;5;124;43manime_id\u001b[39;49m\u001b[38;5;124;43m'\u001b[39;49m\u001b[43m,\u001b[49m\u001b[43m \u001b[49m\u001b[43mfill_value\u001b[49m\u001b[43m \u001b[49m\u001b[38;5;241;43m=\u001b[39;49m\u001b[43m \u001b[49m\u001b[38;5;241;43m0\u001b[39;49m\u001b[43m)\u001b[49m\n\u001b[1;32m     35\u001b[0m     users \u001b[38;5;241m=\u001b[39m table\u001b[38;5;241m.\u001b[39mindex\u001b[38;5;241m.\u001b[39marray\u001b[38;5;241m.\u001b[39mtolist()\n\u001b[1;32m     36\u001b[0m     users \u001b[38;5;241m=\u001b[39m \u001b[38;5;28mself\u001b[39m\u001b[38;5;241m.\u001b[39mconvert_user_from_csv_to_model(users)\n",
      "File \u001b[0;32m~/miniconda3/envs/experiments/lib/python3.9/site-packages/pandas/core/frame.py:9509\u001b[0m, in \u001b[0;36mDataFrame.pivot_table\u001b[0;34m(self, values, index, columns, aggfunc, fill_value, margins, dropna, margins_name, observed, sort)\u001b[0m\n\u001b[1;32m   9492\u001b[0m \u001b[38;5;129m@Substitution\u001b[39m(\u001b[38;5;124m\"\u001b[39m\u001b[38;5;124m\"\u001b[39m)\n\u001b[1;32m   9493\u001b[0m \u001b[38;5;129m@Appender\u001b[39m(_shared_docs[\u001b[38;5;124m\"\u001b[39m\u001b[38;5;124mpivot_table\u001b[39m\u001b[38;5;124m\"\u001b[39m])\n\u001b[1;32m   9494\u001b[0m \u001b[38;5;28;01mdef\u001b[39;00m \u001b[38;5;21mpivot_table\u001b[39m(\n\u001b[0;32m   (...)\u001b[0m\n\u001b[1;32m   9505\u001b[0m     sort: \u001b[38;5;28mbool\u001b[39m \u001b[38;5;241m=\u001b[39m \u001b[38;5;28;01mTrue\u001b[39;00m,\n\u001b[1;32m   9506\u001b[0m ) \u001b[38;5;241m-\u001b[39m\u001b[38;5;241m>\u001b[39m DataFrame:\n\u001b[1;32m   9507\u001b[0m     \u001b[38;5;28;01mfrom\u001b[39;00m \u001b[38;5;21;01mpandas\u001b[39;00m\u001b[38;5;21;01m.\u001b[39;00m\u001b[38;5;21;01mcore\u001b[39;00m\u001b[38;5;21;01m.\u001b[39;00m\u001b[38;5;21;01mreshape\u001b[39;00m\u001b[38;5;21;01m.\u001b[39;00m\u001b[38;5;21;01mpivot\u001b[39;00m \u001b[38;5;28;01mimport\u001b[39;00m pivot_table\n\u001b[0;32m-> 9509\u001b[0m     \u001b[38;5;28;01mreturn\u001b[39;00m \u001b[43mpivot_table\u001b[49m\u001b[43m(\u001b[49m\n\u001b[1;32m   9510\u001b[0m \u001b[43m        \u001b[49m\u001b[38;5;28;43mself\u001b[39;49m\u001b[43m,\u001b[49m\n\u001b[1;32m   9511\u001b[0m \u001b[43m        \u001b[49m\u001b[43mvalues\u001b[49m\u001b[38;5;241;43m=\u001b[39;49m\u001b[43mvalues\u001b[49m\u001b[43m,\u001b[49m\n\u001b[1;32m   9512\u001b[0m \u001b[43m        \u001b[49m\u001b[43mindex\u001b[49m\u001b[38;5;241;43m=\u001b[39;49m\u001b[43mindex\u001b[49m\u001b[43m,\u001b[49m\n\u001b[1;32m   9513\u001b[0m \u001b[43m        \u001b[49m\u001b[43mcolumns\u001b[49m\u001b[38;5;241;43m=\u001b[39;49m\u001b[43mcolumns\u001b[49m\u001b[43m,\u001b[49m\n\u001b[1;32m   9514\u001b[0m \u001b[43m        \u001b[49m\u001b[43maggfunc\u001b[49m\u001b[38;5;241;43m=\u001b[39;49m\u001b[43maggfunc\u001b[49m\u001b[43m,\u001b[49m\n\u001b[1;32m   9515\u001b[0m \u001b[43m        \u001b[49m\u001b[43mfill_value\u001b[49m\u001b[38;5;241;43m=\u001b[39;49m\u001b[43mfill_value\u001b[49m\u001b[43m,\u001b[49m\n\u001b[1;32m   9516\u001b[0m \u001b[43m        \u001b[49m\u001b[43mmargins\u001b[49m\u001b[38;5;241;43m=\u001b[39;49m\u001b[43mmargins\u001b[49m\u001b[43m,\u001b[49m\n\u001b[1;32m   9517\u001b[0m \u001b[43m        \u001b[49m\u001b[43mdropna\u001b[49m\u001b[38;5;241;43m=\u001b[39;49m\u001b[43mdropna\u001b[49m\u001b[43m,\u001b[49m\n\u001b[1;32m   9518\u001b[0m \u001b[43m        \u001b[49m\u001b[43mmargins_name\u001b[49m\u001b[38;5;241;43m=\u001b[39;49m\u001b[43mmargins_name\u001b[49m\u001b[43m,\u001b[49m\n\u001b[1;32m   9519\u001b[0m \u001b[43m        \u001b[49m\u001b[43mobserved\u001b[49m\u001b[38;5;241;43m=\u001b[39;49m\u001b[43mobserved\u001b[49m\u001b[43m,\u001b[49m\n\u001b[1;32m   9520\u001b[0m \u001b[43m        \u001b[49m\u001b[43msort\u001b[49m\u001b[38;5;241;43m=\u001b[39;49m\u001b[43msort\u001b[49m\u001b[43m,\u001b[49m\n\u001b[1;32m   9521\u001b[0m \u001b[43m    \u001b[49m\u001b[43m)\u001b[49m\n",
      "File \u001b[0;32m~/miniconda3/envs/experiments/lib/python3.9/site-packages/pandas/core/reshape/pivot.py:102\u001b[0m, in \u001b[0;36mpivot_table\u001b[0;34m(data, values, index, columns, aggfunc, fill_value, margins, dropna, margins_name, observed, sort)\u001b[0m\n\u001b[1;32m     99\u001b[0m     table \u001b[38;5;241m=\u001b[39m concat(pieces, keys\u001b[38;5;241m=\u001b[39mkeys, axis\u001b[38;5;241m=\u001b[39m\u001b[38;5;241m1\u001b[39m)\n\u001b[1;32m    100\u001b[0m     \u001b[38;5;28;01mreturn\u001b[39;00m table\u001b[38;5;241m.\u001b[39m__finalize__(data, method\u001b[38;5;241m=\u001b[39m\u001b[38;5;124m\"\u001b[39m\u001b[38;5;124mpivot_table\u001b[39m\u001b[38;5;124m\"\u001b[39m)\n\u001b[0;32m--> 102\u001b[0m table \u001b[38;5;241m=\u001b[39m \u001b[43m__internal_pivot_table\u001b[49m\u001b[43m(\u001b[49m\n\u001b[1;32m    103\u001b[0m \u001b[43m    \u001b[49m\u001b[43mdata\u001b[49m\u001b[43m,\u001b[49m\n\u001b[1;32m    104\u001b[0m \u001b[43m    \u001b[49m\u001b[43mvalues\u001b[49m\u001b[43m,\u001b[49m\n\u001b[1;32m    105\u001b[0m \u001b[43m    \u001b[49m\u001b[43mindex\u001b[49m\u001b[43m,\u001b[49m\n\u001b[1;32m    106\u001b[0m \u001b[43m    \u001b[49m\u001b[43mcolumns\u001b[49m\u001b[43m,\u001b[49m\n\u001b[1;32m    107\u001b[0m \u001b[43m    \u001b[49m\u001b[43maggfunc\u001b[49m\u001b[43m,\u001b[49m\n\u001b[1;32m    108\u001b[0m \u001b[43m    \u001b[49m\u001b[43mfill_value\u001b[49m\u001b[43m,\u001b[49m\n\u001b[1;32m    109\u001b[0m \u001b[43m    \u001b[49m\u001b[43mmargins\u001b[49m\u001b[43m,\u001b[49m\n\u001b[1;32m    110\u001b[0m \u001b[43m    \u001b[49m\u001b[43mdropna\u001b[49m\u001b[43m,\u001b[49m\n\u001b[1;32m    111\u001b[0m \u001b[43m    \u001b[49m\u001b[43mmargins_name\u001b[49m\u001b[43m,\u001b[49m\n\u001b[1;32m    112\u001b[0m \u001b[43m    \u001b[49m\u001b[43mobserved\u001b[49m\u001b[43m,\u001b[49m\n\u001b[1;32m    113\u001b[0m \u001b[43m    \u001b[49m\u001b[43msort\u001b[49m\u001b[43m,\u001b[49m\n\u001b[1;32m    114\u001b[0m \u001b[43m\u001b[49m\u001b[43m)\u001b[49m\n\u001b[1;32m    115\u001b[0m \u001b[38;5;28;01mreturn\u001b[39;00m table\u001b[38;5;241m.\u001b[39m__finalize__(data, method\u001b[38;5;241m=\u001b[39m\u001b[38;5;124m\"\u001b[39m\u001b[38;5;124mpivot_table\u001b[39m\u001b[38;5;124m\"\u001b[39m)\n",
      "File \u001b[0;32m~/miniconda3/envs/experiments/lib/python3.9/site-packages/pandas/core/reshape/pivot.py:147\u001b[0m, in \u001b[0;36m__internal_pivot_table\u001b[0;34m(data, values, index, columns, aggfunc, fill_value, margins, dropna, margins_name, observed, sort)\u001b[0m\n\u001b[1;32m    145\u001b[0m \u001b[38;5;66;03m# GH14938 Make sure value labels are in data\u001b[39;00m\n\u001b[1;32m    146\u001b[0m \u001b[38;5;28;01mfor\u001b[39;00m i \u001b[38;5;129;01min\u001b[39;00m values:\n\u001b[0;32m--> 147\u001b[0m     \u001b[38;5;28;01mif\u001b[39;00m \u001b[43mi\u001b[49m\u001b[43m \u001b[49m\u001b[38;5;129;43;01mnot\u001b[39;49;00m\u001b[43m \u001b[49m\u001b[38;5;129;43;01min\u001b[39;49;00m\u001b[43m \u001b[49m\u001b[43mdata\u001b[49m:\n\u001b[1;32m    148\u001b[0m         \u001b[38;5;28;01mraise\u001b[39;00m \u001b[38;5;167;01mKeyError\u001b[39;00m(i)\n\u001b[1;32m    150\u001b[0m to_filter \u001b[38;5;241m=\u001b[39m []\n",
      "File \u001b[0;32m~/miniconda3/envs/experiments/lib/python3.9/site-packages/pandas/core/generic.py:2080\u001b[0m, in \u001b[0;36mNDFrame.__contains__\u001b[0;34m(self, key)\u001b[0m\n\u001b[1;32m   2077\u001b[0m \u001b[38;5;129m@final\u001b[39m\n\u001b[1;32m   2078\u001b[0m \u001b[38;5;28;01mdef\u001b[39;00m \u001b[38;5;21m__contains__\u001b[39m(\u001b[38;5;28mself\u001b[39m, key) \u001b[38;5;241m-\u001b[39m\u001b[38;5;241m>\u001b[39m bool_t:\n\u001b[1;32m   2079\u001b[0m \u001b[38;5;250m    \u001b[39m\u001b[38;5;124;03m\"\"\"True if the key is in the info axis\"\"\"\u001b[39;00m\n\u001b[0;32m-> 2080\u001b[0m     \u001b[38;5;28;01mreturn\u001b[39;00m \u001b[43mkey\u001b[49m\u001b[43m \u001b[49m\u001b[38;5;129;43;01min\u001b[39;49;00m\u001b[43m \u001b[49m\u001b[38;5;28;43mself\u001b[39;49m\u001b[38;5;241;43m.\u001b[39;49m\u001b[43m_info_axis\u001b[49m\n",
      "File \u001b[0;32m~/miniconda3/envs/experiments/lib/python3.9/site-packages/pandas/core/indexes/base.py:5360\u001b[0m, in \u001b[0;36mIndex.__contains__\u001b[0;34m(self, key)\u001b[0m\n\u001b[1;32m   5358\u001b[0m \u001b[38;5;28mhash\u001b[39m(key)\n\u001b[1;32m   5359\u001b[0m \u001b[38;5;28;01mtry\u001b[39;00m:\n\u001b[0;32m-> 5360\u001b[0m     \u001b[38;5;28;01mreturn\u001b[39;00m key \u001b[38;5;129;01min\u001b[39;00m \u001b[38;5;28mself\u001b[39m\u001b[38;5;241m.\u001b[39m_engine\n\u001b[1;32m   5361\u001b[0m \u001b[38;5;28;01mexcept\u001b[39;00m (\u001b[38;5;167;01mOverflowError\u001b[39;00m, \u001b[38;5;167;01mTypeError\u001b[39;00m, \u001b[38;5;167;01mValueError\u001b[39;00m):\n\u001b[1;32m   5362\u001b[0m     \u001b[38;5;28;01mreturn\u001b[39;00m \u001b[38;5;28;01mFalse\u001b[39;00m\n",
      "\u001b[0;31mKeyboardInterrupt\u001b[0m: "
     ]
    }
   ],
   "source": [
    "from tqdm import tqdm\n",
    "from IPython.display import clear_output\n",
    "import copy\n",
    "\n",
    "train_losses = []\n",
    "validation_losses = []\n",
    "\n",
    "EVAL_EVERY = 10 # Only running evaluation step every 10 training steps\n",
    "\n",
    "epochs = epoch + 300 # Set this to the number of training epochs you want to perform\n",
    "\n",
    "with t.no_grad(): # To initialize the eval loss before training\n",
    "    model.eval()\n",
    "    us, an, ta = next(iter(validation_dataloader))\n",
    "    loss, _ = run_step(model, loss_fn, us, an, ta)\n",
    "    loss = loss.item()\n",
    "    best_eval_loss = loss\n",
    "    best_epoch = -1\n",
    "    model.train()\n",
    "\n",
    "while epoch < epochs:\n",
    "    current_train_loss = t.empty(0, device=\"cpu\")\n",
    "    current_eval_loss = t.empty(0, device=\"cpu\")\n",
    "\n",
    "    i = 0\n",
    "    for users, animes, target in tqdm(train_dataloader):\n",
    "        #Training Step\n",
    "        optimizer.zero_grad()\n",
    "        loss, _ = run_step(model, loss_fn, users, animes, target)\n",
    "        loss.backward()\n",
    "        optimizer.step()\n",
    "        current_train_loss = t.cat((current_train_loss, loss.to(\"cpu\").unsqueeze(0)))\n",
    "\n",
    "        if i == 0:\n",
    "            #Validation Step\n",
    "            with t.no_grad():\n",
    "                model.eval()\n",
    "                us, an, ta = next(iter(validation_dataloader))\n",
    "                loss, _ = run_step(model, loss_fn, us, an, ta)\n",
    "                current_eval_loss = t.cat((current_eval_loss, loss.to(\"cpu\").unsqueeze(0)))\n",
    "                loss = loss.item()\n",
    "                if loss < best_eval_loss: # Getting the best model\n",
    "                    best_eval_loss = loss\n",
    "                    best_model = copy.deepcopy(model)\n",
    "                    best_epoch = epoch\n",
    "                model.train()\n",
    "        i = (i + 1) % EVAL_EVERY\n",
    "\n",
    "    train_losses = train_losses + current_train_loss.tolist()\n",
    "    validation_losses = validation_losses + current_eval_loss.tolist()\n",
    "    \n",
    "    clear_output()\n",
    "    print(f\"Finished epoch {epoch}\")\n",
    "    print(\n",
    "        f\"Training loss average = {sum(current_train_loss) / len(current_train_loss)}\"\n",
    "    )\n",
    "    eval_loss = sum(current_eval_loss) / len(current_eval_loss)\n",
    "    print(f\"Evaluation loss average = {eval_loss}\")\n",
    "    print(f\"Current Best Epoch: {best_epoch}: Validation Loss: {best_eval_loss}\")\n",
    "    epoch += 1\n",
    "\n",
    "print(f\"Going back to epoch {best_epoch}: validation loss: {best_eval_loss}\")\n",
    "model = best_model\n",
    "epoch = best_epoch"
   ]
  },
  {
   "cell_type": "markdown",
   "metadata": {},
   "source": [
    "# Plotting the epochs\n",
    "\n",
    "Using matplotlib to plot the result of the experiment"
   ]
  },
  {
   "cell_type": "code",
   "execution_count": 10,
   "metadata": {},
   "outputs": [
    {
     "data": {
      "image/png": "[encoded data removed]",
      "text/plain": [
       "<Figure size 640x480 with 2 Axes>"
      ]
     },
     "metadata": {},
     "output_type": "display_data"
    }
   ],
   "source": [
    "import matplotlib.pyplot as plt\n",
    "\n",
    "fig, axs = plt.subplots(2)\n",
    "\n",
    "x = list(range(1, len(train_losses) + 1))\n",
    "axs[0].plot(x, train_losses)\n",
    "\n",
    "\n",
    "x = list(range(1, len(validation_losses) + 1))\n",
    "axs[1].plot(x, validation_losses)\n",
    "plt.show()"
   ]
  },
  {
   "cell_type": "markdown",
   "metadata": {},
   "source": [
    "# Saving the model\n",
    "\n",
    "As long as we are carrying out the same experiment we should be able to save and load the model.\n",
    "This saves a lot of time and allows us to restart from where we left off the previous time."
   ]
  },
  {
   "cell_type": "code",
   "execution_count": null,
   "metadata": {},
   "outputs": [],
   "source": [
    "t.save(\n",
    "    model.state_dict(),\n",
    "    f\"/home/andreacacioli/Documents/github/MachineLearning/Anime Recommender System (Knime)/models/{get_unique_experiment_name()}_epoch-{epoch}.pt\",\n",
    ")"
   ]
  }
 ],
 "metadata": {
  "kernelspec": {
   "display_name": "experiments",
   "language": "python",
   "name": "python3"
  },
  "language_info": {
   "codemirror_mode": {
    "name": "ipython",
    "version": 3
   },
   "file_extension": ".py",
   "mimetype": "text/x-python",
   "name": "python",
   "nbconvert_exporter": "python",
   "pygments_lexer": "ipython3",
   "version": "3.9.20"
  }
 },
 "nbformat": 4,
 "nbformat_minor": 2
}
