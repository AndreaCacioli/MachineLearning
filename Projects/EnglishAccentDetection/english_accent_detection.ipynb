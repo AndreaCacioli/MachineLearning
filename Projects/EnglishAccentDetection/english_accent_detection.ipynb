{
 "cells": [
  {
   "cell_type": "markdown",
   "metadata": {},
   "source": [
    "# Objective\n",
    "In this notebook I am going to try and build a tool that can help me identify the flaws of my accent.\n",
    "To do this, I'll need some labelled data: (voice recording and accent).\n",
    "\n",
    "On HuggingFace I found this dataset https://huggingface.co/datasets/westbrook/English_Accent_DataSet which seems to be exactly what we needed!\n",
    "\n",
    "Now let's see if we can classify some clips!"
   ]
  },
  {
   "cell_type": "code",
   "execution_count": null,
   "metadata": {},
   "outputs": [
    {
     "name": "stderr",
     "output_type": "stream",
     "text": [
      "Repo card metadata block was not found. Setting CardData to empty.\n"
     ]
    },
    {
     "data": {
      "application/vnd.jupyter.widget-view+json": {
       "model_id": "7267a17704af4c83966c480e3053ede5",
       "version_major": 2,
       "version_minor": 0
      },
      "text/plain": [
       "Resolving data files:   0%|          | 0/28 [00:00<?, ?it/s]"
      ]
     },
     "metadata": {},
     "output_type": "display_data"
    },
    {
     "data": {
      "application/vnd.jupyter.widget-view+json": {
       "model_id": "d6647e30b81d4eb498697fb027fe0a59",
       "version_major": 2,
       "version_minor": 0
      },
      "text/plain": [
       "Loading dataset shards:   0%|          | 0/18 [00:00<?, ?it/s]"
      ]
     },
     "metadata": {},
     "output_type": "display_data"
    },
    {
     "name": "stderr",
     "output_type": "stream",
     "text": [
      "Repo card metadata block was not found. Setting CardData to empty.\n"
     ]
    },
    {
     "data": {
      "application/vnd.jupyter.widget-view+json": {
       "model_id": "3a186afe90024b55b582440cafc8351c",
       "version_major": 2,
       "version_minor": 0
      },
      "text/plain": [
       "Resolving data files:   0%|          | 0/28 [00:00<?, ?it/s]"
      ]
     },
     "metadata": {},
     "output_type": "display_data"
    },
    {
     "name": "stderr",
     "output_type": "stream",
     "text": [
      "Repo card metadata block was not found. Setting CardData to empty.\n"
     ]
    },
    {
     "data": {
      "application/vnd.jupyter.widget-view+json": {
       "model_id": "69919a8ee9844ae7ae5d0b966e6887aa",
       "version_major": 2,
       "version_minor": 0
      },
      "text/plain": [
       "Resolving data files:   0%|          | 0/28 [00:00<?, ?it/s]"
      ]
     },
     "metadata": {},
     "output_type": "display_data"
    }
   ],
   "source": [
    "from datasets import load_dataset\n",
    "\n",
    "train_dataset = load_dataset(\"westbrook/English_Accent_DataSet\", split=\"train\")\n",
    "valid_dataset = load_dataset(\"westbrook/English_Accent_DataSet\", split=\"validation\")\n",
    "test_dataset  = load_dataset(\"westbrook/English_Accent_DataSet\", split=\"test\")"
   ]
  },
  {
   "cell_type": "code",
   "execution_count": 4,
   "metadata": {},
   "outputs": [
    {
     "name": "stdout",
     "output_type": "stream",
     "text": [
      "using device: cuda\n"
     ]
    }
   ],
   "source": [
    "import torch as t\n",
    "import torch.nn as nn\n",
    "import torchvision.transforms.functional as F\n",
    "\n",
    "import pandas as pd\n",
    "import numpy as np\n",
    "import random\n",
    "\n",
    "device = 'cuda' if t.cuda.is_available() else 'cpu'\n",
    "print(f\"using device: {device}\")\n",
    "\n",
    "# Reproducibility -> Also ensures same train / validation / test split every time\n",
    "t.manual_seed(42)\n",
    "random.seed(42)\n",
    "np.random.seed(42)\n",
    "\n",
    "t.cuda.empty_cache()"
   ]
  },
  {
   "cell_type": "code",
   "execution_count": 12,
   "metadata": {},
   "outputs": [
    {
     "name": "stdout",
     "output_type": "stream",
     "text": [
      "['audio_id', 'audio', 'raw_text', 'gender', 'speaker_id', 'duration', 'accent', 'split']\n",
      "{'audio_id': 'edacc_EDACC-C06_1', 'audio': {'path': 'edacc_EDACC-C06_1.wav', 'array': tensor([-6.1035e-03, -8.7585e-03, -7.2937e-03,  ..., -1.5259e-04,\n",
      "        -9.1553e-05, -9.1553e-05]), 'sampling_rate': tensor(16000)}, 'raw_text': 'OKAY NOW FOR A REGULAR CONVERSATION SO UH WOULD YOU RATHER GO TO THE BEACH TODAY OR DO CLUB GOLF DISCUSS', 'gender': 'male', 'speaker_id': 'EDACC-C06-A', 'duration': tensor(8.3500), 'accent': tensor(15), 'split': 'training'}\n"
     ]
    }
   ],
   "source": [
    "train_dataset = train_dataset.with_format('torch')\n",
    "valid_dataset = valid_dataset.with_format('torch')\n",
    "test_dataset = test_dataset.with_format('torch')\n",
    "\n",
    "print(train_dataset.column_names)\n",
    "print(train_dataset[0])"
   ]
  }
 ],
 "metadata": {
  "kernelspec": {
   "display_name": "experiments",
   "language": "python",
   "name": "python3"
  },
  "language_info": {
   "codemirror_mode": {
    "name": "ipython",
    "version": 3
   },
   "file_extension": ".py",
   "mimetype": "text/x-python",
   "name": "python",
   "nbconvert_exporter": "python",
   "pygments_lexer": "ipython3",
   "version": "3.9.20"
  }
 },
 "nbformat": 4,
 "nbformat_minor": 2
}
