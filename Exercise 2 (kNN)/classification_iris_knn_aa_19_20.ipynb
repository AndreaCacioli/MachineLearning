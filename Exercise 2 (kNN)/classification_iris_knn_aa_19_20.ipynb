{
 "cells": [
  {
   "cell_type": "markdown",
   "metadata": {},
   "source": [
    "# # Classifiers comparison: decision trees and k-nearest neighbors on the dataset Iris\n",
    "\n",
    "\n",
    "In the following program we compare the prediction results obtained by decision trees and k-nearest neighbors on the dataset Iris"
   ]
  },
  {
   "cell_type": "markdown",
   "metadata": {
    "collapsed": true
   },
   "source": [
    "The following cell shows the program training a decision tree and its results in preciction "
   ]
  },
  {
   "cell_type": "code",
   "execution_count": 33,
   "metadata": {
    "collapsed": false
   },
   "outputs": [
    {
     "name": "stdout",
     "output_type": "stream",
     "text": [
      "[0.96666667 1.         0.86666667 0.86666667 1.        ]\n"
     ]
    }
   ],
   "source": [
    "from sklearn import tree\n",
    "from sklearn.datasets import load_iris\n",
    "from sklearn.model_selection import (\n",
    "    cross_val_score,\n",
    ")  # will be used to separate training and test\n",
    "\n",
    "iris = load_iris()\n",
    "clf = tree.DecisionTreeClassifier(\n",
    "    criterion=\"entropy\",\n",
    "    random_state=300,\n",
    "    min_samples_leaf=5,\n",
    "    class_weight={0: 1, 1: 1, 2: 1},\n",
    ")\n",
    "clf = clf.fit(iris.data, iris.target)\n",
    "scores = cross_val_score(\n",
    "    clf, iris.data, iris.target, cv=5\n",
    ")  # score will be the accuracy\n",
    "print(scores)"
   ]
  },
  {
   "cell_type": "markdown",
   "metadata": {},
   "source": [
    "The following cell shows the training of k-nearest neighbors and its prediction results.\n",
    "Here we use a uniform weighting setting (weights='uniform'): any neighbors weights the same in the majority voting aggregation."
   ]
  },
  {
   "cell_type": "code",
   "execution_count": 34,
   "metadata": {
    "collapsed": false
   },
   "outputs": [
    {
     "name": "stdout",
     "output_type": "stream",
     "text": [
      "[0.93333333 1.         1.         0.96666667 1.        ]\n",
      "77 nok true class: versicolor; predicted: virginica\n",
      "83 nok true class: versicolor; predicted: virginica\n",
      "106 nok true class: virginica; predicted: versicolor\n",
      "138 nok true class: virginica; predicted: versicolor\n"
     ]
    }
   ],
   "source": [
    "from sklearn import neighbors\n",
    "\n",
    "n_neighbors = 11\n",
    "clf_knn = neighbors.KNeighborsClassifier(n_neighbors, weights=\"uniform\")\n",
    "clf_knn = clf_knn.fit(iris.data, iris.target)\n",
    "scores = cross_val_score(\n",
    "    clf_knn, iris.data, iris.target, cv=5\n",
    ")  # score will be the accuracy\n",
    "print(scores)\n",
    "# shows the model predictions\n",
    "for i in range(len(iris.target)):\n",
    "    instance = (iris.data[i, :]).reshape(1, -1)\n",
    "    predicted = clf_knn.predict(instance)[0]\n",
    "    if iris.target[i] == predicted:\n",
    "        continue\n",
    "        # print(str(i)+\" ok \"+str(iris.target_names[iris.target[i]]))\n",
    "    else:\n",
    "        print(\n",
    "            str(i)\n",
    "            + \" nok \"\n",
    "            + \"true class: \"\n",
    "            + str(iris.target_names[iris.target[i]])\n",
    "            + \"; predicted: \"\n",
    "            + str(iris.target_names[predicted])\n",
    "        )"
   ]
  },
  {
   "cell_type": "markdown",
   "metadata": {},
   "source": [
    "In the following cell we use a varying weighting setting (weights='distance'): any neighbors weights inversely with its distance to the test instance in the majority voting aggregation."
   ]
  },
  {
   "cell_type": "code",
   "execution_count": 35,
   "metadata": {
    "collapsed": false,
    "scrolled": true
   },
   "outputs": [
    {
     "name": "stdout",
     "output_type": "stream",
     "text": [
      "Classification score of k-nn with distance weighting\n",
      "[0.96666667 1.         1.         0.96666667 1.        ]\n"
     ]
    }
   ],
   "source": [
    "n_neighbors = 11\n",
    "clf_knn2 = neighbors.KNeighborsClassifier(n_neighbors, weights=\"distance\")\n",
    "clf_knn2.fit(iris.data, iris.target)\n",
    "\n",
    "for i in range(len(iris.target)):\n",
    "    instance = (iris.data[i, :]).reshape(1, -1)\n",
    "    predicted2 = clf_knn2.predict(instance)[0]\n",
    "    if iris.target[i] == predicted2:\n",
    "        continue\n",
    "        # print(str(i)+\" ok \"+str(iris.target_names[iris.target[i]]))\n",
    "    else:\n",
    "        print(\n",
    "            str(i)\n",
    "            + \" nok \"\n",
    "            + \"true class: \"\n",
    "            + str(iris.target_names[iris.target[i]])\n",
    "            + \"; predicted: \"\n",
    "            + str(iris.target_names[predicted])\n",
    "        )\n",
    "print(\"Classification score of k-nn with distance weighting\")\n",
    "scores2 = cross_val_score(\n",
    "    clf_knn2, iris.data, iris.target, cv=5, scoring=\"accuracy\"\n",
    ")  # score will be the accuracy\n",
    "print(scores2)"
   ]
  },
  {
   "cell_type": "markdown",
   "metadata": {},
   "source": [
    "The following cell shows the tuning of the k-nn models with a varying value of k (number of nearest neighbors) and finds the best value of k (giving the maximum accuracy)."
   ]
  },
  {
   "cell_type": "code",
   "execution_count": 39,
   "metadata": {
    "collapsed": false,
    "scrolled": false
   },
   "outputs": [
    {
     "name": "stdout",
     "output_type": "stream",
     "text": [
      "k neighbors=1\n",
      "accuracy=0.9222222222222223\n",
      "k neighbors=2\n",
      "accuracy=0.9222222222222223\n",
      "k neighbors=3\n",
      "accuracy=0.9444444444444444\n",
      "k neighbors=4\n",
      "accuracy=0.9444444444444444\n",
      "k neighbors=5\n",
      "accuracy=0.9333333333333333\n",
      "k neighbors=6\n",
      "accuracy=0.9444444444444444\n",
      "k neighbors=7\n",
      "accuracy=0.9444444444444444\n",
      "k neighbors=8\n",
      "accuracy=0.9333333333333333\n",
      "k neighbors=9\n",
      "accuracy=0.9444444444444444\n",
      "k neighbors=10\n",
      "accuracy=0.9444444444444444\n",
      "k neighbors=11\n",
      "accuracy=0.9444444444444444\n",
      "k neighbors=12\n",
      "accuracy=0.9444444444444444\n",
      "k neighbors=13\n",
      "accuracy=0.9444444444444444\n",
      "k neighbors=14\n",
      "accuracy=0.9444444444444444\n",
      "k neighbors=15\n",
      "accuracy=0.9222222222222223\n",
      "k neighbors=16\n",
      "accuracy=0.9444444444444444\n",
      "k neighbors=17\n",
      "accuracy=0.9333333333333333\n",
      "k neighbors=18\n",
      "accuracy=0.9444444444444444\n",
      "k neighbors=19\n",
      "accuracy=0.9444444444444444\n",
      "k neighbors=20\n",
      "accuracy=0.9444444444444444\n",
      "k neighbors=21\n",
      "accuracy=0.9444444444444444\n",
      "k neighbors=22\n",
      "accuracy=0.9333333333333333\n",
      "k neighbors=23\n",
      "accuracy=0.9333333333333333\n",
      "k neighbors=24\n",
      "accuracy=0.9444444444444444\n",
      "k neighbors=25\n",
      "accuracy=0.9444444444444444\n",
      "k neighbors=26\n",
      "accuracy=0.9444444444444444\n",
      "k neighbors=27\n",
      "accuracy=0.9444444444444444\n",
      "k neighbors=28\n",
      "accuracy=0.9444444444444444\n",
      "k neighbors=29\n",
      "accuracy=0.9444444444444444\n",
      "k neighbors=30\n",
      "accuracy=0.9333333333333333\n",
      "k neighbors=31\n",
      "accuracy=0.9444444444444444\n",
      "k neighbors=32\n",
      "accuracy=0.9444444444444444\n",
      "k neighbors=33\n",
      "accuracy=0.9444444444444444\n",
      "k neighbors=34\n",
      "accuracy=0.9333333333333333\n",
      "k neighbors=35\n",
      "accuracy=0.9333333333333333\n",
      "k neighbors=36\n",
      "accuracy=0.9333333333333333\n",
      "k neighbors=37\n",
      "accuracy=0.9333333333333333\n",
      "k neighbors=38\n",
      "accuracy=0.9333333333333333\n",
      "k neighbors=39\n",
      "accuracy=0.9333333333333333\n",
      "k neighbors=40\n",
      "accuracy=0.9333333333333333\n",
      "k neighbors=41\n",
      "accuracy=0.9333333333333333\n",
      "k neighbors=42\n",
      "accuracy=0.9333333333333333\n",
      "k neighbors=43\n",
      "accuracy=0.9333333333333333\n",
      "k neighbors=44\n",
      "accuracy=0.9333333333333333\n",
      "k neighbors=45\n",
      "accuracy=0.9333333333333333\n",
      "k neighbors=46\n",
      "accuracy=0.9333333333333333\n",
      "k neighbors=47\n",
      "accuracy=0.9333333333333333\n",
      "k neighbors=48\n",
      "accuracy=0.9333333333333333\n",
      "k neighbors=49\n",
      "accuracy=0.9333333333333333\n",
      "k neighbors=50\n",
      "accuracy=0.9333333333333333\n",
      "k neighbors=51\n",
      "accuracy=0.9333333333333333\n",
      "k neighbors=52\n",
      "accuracy=0.9333333333333333\n",
      "k neighbors=53\n",
      "accuracy=0.9333333333333333\n",
      "k neighbors=54\n",
      "accuracy=0.9333333333333333\n",
      "k neighbors=55\n",
      "accuracy=0.9333333333333333\n",
      "k neighbors=56\n",
      "accuracy=0.9333333333333333\n",
      "k neighbors=57\n",
      "accuracy=0.9333333333333333\n",
      "k neighbors=58\n",
      "accuracy=0.9333333333333333\n",
      "k neighbors=59\n",
      "accuracy=0.9333333333333333\n",
      "k neighbors=60\n",
      "accuracy=0.9333333333333333\n",
      "\n",
      "\n",
      "best k=3\n",
      "best accuracy=0.9444444444444444\n"
     ]
    },
    {
     "data": {
      "image/png": "[encoded data removed]",
      "text/plain": [
       "<Figure size 640x480 with 1 Axes>"
      ]
     },
     "metadata": {},
     "output_type": "display_data"
    }
   ],
   "source": [
    "import numpy as np\n",
    "from sklearn import neighbors\n",
    "from sklearn.datasets import load_iris\n",
    "\n",
    "iris = load_iris()\n",
    "from sklearn.model_selection import train_test_split\n",
    "\n",
    "X_train, X_test, y_train, y_test = train_test_split(\n",
    "    iris.data, iris.target, test_size=0.4, random_state=0\n",
    ")\n",
    "\n",
    "best_accuracy = 0\n",
    "best_k = 1\n",
    "A = np.zeros(len(y_train))  # for storing accuracies\n",
    "for n_neighbors in np.arange(1, len(y_train) + 1):\n",
    "    clf_knn3 = neighbors.KNeighborsClassifier(n_neighbors, weights=\"distance\")\n",
    "    # (n_neighbors=5, weights='uniform', algorithm='auto', leaf_size=30, p=2, metric='minkowski', metric_params=None, n_jobs=1, **kwargs)\n",
    "    clf_knn3.fit(X_train, y_train)\n",
    "    index = n_neighbors - 1\n",
    "    A[index] = clf_knn3.score(X_test, y_test)\n",
    "    if best_accuracy < clf_knn3.score(X_test, y_test):\n",
    "        best_accuracy = clf_knn3.score(X_test, y_test)\n",
    "        best_k = n_neighbors\n",
    "    print(\"k neighbors=\" + str(n_neighbors))\n",
    "    print(\"accuracy=\" + str(clf_knn3.score(X_test, y_test)))\n",
    "\n",
    "print(\"\\n\")\n",
    "print(\"best k=\" + str(best_k))\n",
    "print(\"best accuracy=\" + str(best_accuracy))\n",
    "\n",
    "import matplotlib.pyplot as plt\n",
    "import matplotlib.ticker as ticker\n",
    "\n",
    "# plt.xticks(np.arange(1, len(y_train)+1, 8))\n",
    "plt.yticks(np.arange(0.0, 1.0, 0.01))\n",
    "\n",
    "plt.plot(np.arange(1, len(y_train) + 1), A)\n",
    "\n",
    "plt.show()"
   ]
  },
  {
   "cell_type": "markdown",
   "metadata": {
    "collapsed": true
   },
   "source": [
    "In the following cell we plot in the same plot two subplots with the diagrams on accuracy with the two kinds of weighting \n",
    "of the vote of the neighbours (uniform and with distance)"
   ]
  },
  {
   "cell_type": "code",
   "execution_count": 37,
   "metadata": {
    "collapsed": false
   },
   "outputs": [
    {
     "name": "stdout",
     "output_type": "stream",
     "text": [
      "weighting:uniform\n"
     ]
    },
    {
     "ename": "AttributeError",
     "evalue": "module 'numpy' has no attribute 'float'.\n`np.float` was a deprecated alias for the builtin `float`. To avoid this error in existing code, use `float` by itself. Doing this will not modify any behavior and is safe. If you specifically wanted the numpy scalar type, use `np.float64` here.\nThe aliases was originally deprecated in NumPy 1.20; for more details and guidance see the original release note at:\n    https://numpy.org/devdocs/release/1.20.0-notes.html#deprecations",
     "output_type": "error",
     "traceback": [
      "\u001b[0;31m---------------------------------------------------------------------------\u001b[0m",
      "\u001b[0;31mAttributeError\u001b[0m                            Traceback (most recent call last)",
      "\u001b[1;32m/Users/andreacacioli/Desktop/GitHub/MachineLearning/Exercise 2 (kNN)/classification_iris_knn_aa_19_20.ipynb Cell 11\u001b[0m line \u001b[0;36m1\n\u001b[1;32m     <a href='vscode-notebook-cell:/Users/andreacacioli/Desktop/GitHub/MachineLearning/Exercise%202%20%28kNN%29/classification_iris_knn_aa_19_20.ipynb#X13sZmlsZQ%3D%3D?line=13'>14</a>\u001b[0m \u001b[39mfor\u001b[39;00m weight_type \u001b[39min\u001b[39;00m [\u001b[39m'\u001b[39m\u001b[39muniform\u001b[39m\u001b[39m'\u001b[39m,\u001b[39m'\u001b[39m\u001b[39mdistance\u001b[39m\u001b[39m'\u001b[39m]:\n\u001b[1;32m     <a href='vscode-notebook-cell:/Users/andreacacioli/Desktop/GitHub/MachineLearning/Exercise%202%20%28kNN%29/classification_iris_knn_aa_19_20.ipynb#X13sZmlsZQ%3D%3D?line=14'>15</a>\u001b[0m     \u001b[39mprint\u001b[39m(\u001b[39m\"\u001b[39m\u001b[39mweighting:\u001b[39m\u001b[39m\"\u001b[39m\u001b[39m+\u001b[39m\u001b[39mstr\u001b[39m(weight_type))\n\u001b[0;32m---> <a href='vscode-notebook-cell:/Users/andreacacioli/Desktop/GitHub/MachineLearning/Exercise%202%20%28kNN%29/classification_iris_knn_aa_19_20.ipynb#X13sZmlsZQ%3D%3D?line=15'>16</a>\u001b[0m     A\u001b[39m=\u001b[39mnp\u001b[39m.\u001b[39mzeros(\u001b[39mlen\u001b[39m(y_train), dtype\u001b[39m=\u001b[39mnp\u001b[39m.\u001b[39;49mfloat) \u001b[39m# for storing accuracies\u001b[39;00m\n\u001b[1;32m     <a href='vscode-notebook-cell:/Users/andreacacioli/Desktop/GitHub/MachineLearning/Exercise%202%20%28kNN%29/classification_iris_knn_aa_19_20.ipynb#X13sZmlsZQ%3D%3D?line=16'>17</a>\u001b[0m     best_accuracy\u001b[39m=\u001b[39m\u001b[39m0\u001b[39m\n\u001b[1;32m     <a href='vscode-notebook-cell:/Users/andreacacioli/Desktop/GitHub/MachineLearning/Exercise%202%20%28kNN%29/classification_iris_knn_aa_19_20.ipynb#X13sZmlsZQ%3D%3D?line=17'>18</a>\u001b[0m     best_k\u001b[39m=\u001b[39m\u001b[39m1\u001b[39m\n",
      "File \u001b[0;32m/usr/local/lib/python3.9/site-packages/numpy/__init__.py:305\u001b[0m, in \u001b[0;36m__getattr__\u001b[0;34m(attr)\u001b[0m\n\u001b[1;32m    300\u001b[0m     warnings\u001b[39m.\u001b[39mwarn(\n\u001b[1;32m    301\u001b[0m         \u001b[39mf\u001b[39m\u001b[39m\"\u001b[39m\u001b[39mIn the future `np.\u001b[39m\u001b[39m{\u001b[39;00mattr\u001b[39m}\u001b[39;00m\u001b[39m` will be defined as the \u001b[39m\u001b[39m\"\u001b[39m\n\u001b[1;32m    302\u001b[0m         \u001b[39m\"\u001b[39m\u001b[39mcorresponding NumPy scalar.\u001b[39m\u001b[39m\"\u001b[39m, \u001b[39mFutureWarning\u001b[39;00m, stacklevel\u001b[39m=\u001b[39m\u001b[39m2\u001b[39m)\n\u001b[1;32m    304\u001b[0m \u001b[39mif\u001b[39;00m attr \u001b[39min\u001b[39;00m __former_attrs__:\n\u001b[0;32m--> 305\u001b[0m     \u001b[39mraise\u001b[39;00m \u001b[39mAttributeError\u001b[39;00m(__former_attrs__[attr])\n\u001b[1;32m    307\u001b[0m \u001b[39m# Importing Tester requires importing all of UnitTest which is not a\u001b[39;00m\n\u001b[1;32m    308\u001b[0m \u001b[39m# cheap import Since it is mainly used in test suits, we lazy import it\u001b[39;00m\n\u001b[1;32m    309\u001b[0m \u001b[39m# here to save on the order of 10 ms of import time for most users\u001b[39;00m\n\u001b[1;32m    310\u001b[0m \u001b[39m#\u001b[39;00m\n\u001b[1;32m    311\u001b[0m \u001b[39m# The previous way Tester was imported also had a side effect of adding\u001b[39;00m\n\u001b[1;32m    312\u001b[0m \u001b[39m# the full `numpy.testing` namespace\u001b[39;00m\n\u001b[1;32m    313\u001b[0m \u001b[39mif\u001b[39;00m attr \u001b[39m==\u001b[39m \u001b[39m'\u001b[39m\u001b[39mtesting\u001b[39m\u001b[39m'\u001b[39m:\n",
      "\u001b[0;31mAttributeError\u001b[0m: module 'numpy' has no attribute 'float'.\n`np.float` was a deprecated alias for the builtin `float`. To avoid this error in existing code, use `float` by itself. Doing this will not modify any behavior and is safe. If you specifically wanted the numpy scalar type, use `np.float64` here.\nThe aliases was originally deprecated in NumPy 1.20; for more details and guidance see the original release note at:\n    https://numpy.org/devdocs/release/1.20.0-notes.html#deprecations"
     ]
    },
    {
     "data": {
      "image/png": "[encoded data removed]",
      "text/plain": [
       "<Figure size 640x480 with 2 Axes>"
      ]
     },
     "metadata": {},
     "output_type": "display_data"
    }
   ],
   "source": [
    "import numpy as np\n",
    "from numpy import zeros\n",
    "from sklearn import neighbors\n",
    "from sklearn.datasets import load_iris\n",
    "\n",
    "iris = load_iris()\n",
    "from sklearn.model_selection import train_test_split\n",
    "\n",
    "import matplotlib.pyplot as plt\n",
    "\n",
    "X_train, X_test, y_train, y_test = train_test_split(\n",
    "    iris.data, iris.target, test_size=0.4, random_state=0\n",
    ")\n",
    "\n",
    "i = 0  # parameter in the control of the subplot to draw on'\n",
    "f, (ax1, ax2) = plt.subplots(1, 2, sharey=True)\n",
    "for weight_type in [\"uniform\", \"distance\"]:\n",
    "    print(\"weighting:\" + str(weight_type))\n",
    "    A = np.zeros(len(y_train), dtype=np.float)  # for storing accuracies\n",
    "    best_accuracy = 0\n",
    "    best_k = 1\n",
    "    for n_neighbors in np.arange(1, len(y_train) + 1):\n",
    "        clf_knn2 = neighbors.KNeighborsClassifier(n_neighbors, weights=weight_type)\n",
    "        # (n_neighbors=5, weights='uniform', algorithm='auto', leaf_size=30, p=2, metric='minkowski', metric_params=None, n_jobs=1, **kwargs)\n",
    "        clf_knn2.fit(X_train, y_train)\n",
    "        index = n_neighbors - 1\n",
    "        A[index] = clf_knn2.score(X_test, y_test)\n",
    "        if best_accuracy < clf_knn2.score(X_test, y_test):\n",
    "            best_accuracy = clf_knn2.score(X_test, y_test)\n",
    "            best_k = n_neighbors\n",
    "        print(\"k neighbors=\" + str(n_neighbors))\n",
    "        print(\"accuracy=\" + str(clf_knn2.score(X_test, y_test)))\n",
    "\n",
    "    print(\"\\n\")\n",
    "    print(\"best k=\" + str(best_k))\n",
    "    print(\"best accuracy=\" + str(best_accuracy))\n",
    "    if i == 0:\n",
    "        ax1.plot(np.arange(1, len(y_train) + 1), A)\n",
    "        ax1.set_title(\"weighting type:\" + str(weight_type))\n",
    "    else:\n",
    "        ax2.plot(np.arange(1, len(y_train) + 1), A)\n",
    "        ax2.set_title(\"weighting type:\" + str(weight_type))\n",
    "    i = i + 1\n",
    "\n",
    "plt.show()"
   ]
  },
  {
   "cell_type": "markdown",
   "metadata": {
    "collapsed": true
   },
   "source": [
    "In the following cell we plot (overlapping) in the same picture both the diagrams on accuracy with the two kinds of weighting \n",
    "of the vote of the neighbours (uniform and with distance)"
   ]
  },
  {
   "cell_type": "code",
   "execution_count": 38,
   "metadata": {
    "collapsed": false
   },
   "outputs": [
    {
     "ename": "AttributeError",
     "evalue": "module 'numpy' has no attribute 'float'.\n`np.float` was a deprecated alias for the builtin `float`. To avoid this error in existing code, use `float` by itself. Doing this will not modify any behavior and is safe. If you specifically wanted the numpy scalar type, use `np.float64` here.\nThe aliases was originally deprecated in NumPy 1.20; for more details and guidance see the original release note at:\n    https://numpy.org/devdocs/release/1.20.0-notes.html#deprecations",
     "output_type": "error",
     "traceback": [
      "\u001b[0;31m---------------------------------------------------------------------------\u001b[0m",
      "\u001b[0;31mAttributeError\u001b[0m                            Traceback (most recent call last)",
      "\u001b[1;32m/Users/andreacacioli/Desktop/GitHub/MachineLearning/Exercise 2 (kNN)/classification_iris_knn_aa_19_20.ipynb Cell 13\u001b[0m line \u001b[0;36m1\n\u001b[1;32m     <a href='vscode-notebook-cell:/Users/andreacacioli/Desktop/GitHub/MachineLearning/Exercise%202%20%28kNN%29/classification_iris_knn_aa_19_20.ipynb#X15sZmlsZQ%3D%3D?line=14'>15</a>\u001b[0m ax\u001b[39m.\u001b[39mset_xlabel(\u001b[39m'\u001b[39m\u001b[39mn. neighbors\u001b[39m\u001b[39m'\u001b[39m)\n\u001b[1;32m     <a href='vscode-notebook-cell:/Users/andreacacioli/Desktop/GitHub/MachineLearning/Exercise%202%20%28kNN%29/classification_iris_knn_aa_19_20.ipynb#X15sZmlsZQ%3D%3D?line=15'>16</a>\u001b[0m ax\u001b[39m.\u001b[39mset_ylabel(\u001b[39m'\u001b[39m\u001b[39maccuracy\u001b[39m\u001b[39m'\u001b[39m)\n\u001b[0;32m---> <a href='vscode-notebook-cell:/Users/andreacacioli/Desktop/GitHub/MachineLearning/Exercise%202%20%28kNN%29/classification_iris_knn_aa_19_20.ipynb#X15sZmlsZQ%3D%3D?line=17'>18</a>\u001b[0m A\u001b[39m=\u001b[39mnp\u001b[39m.\u001b[39mzeros((\u001b[39mlen\u001b[39m(y_train),\u001b[39m2\u001b[39m), dtype\u001b[39m=\u001b[39mnp\u001b[39m.\u001b[39;49mfloat) \u001b[39m# 2 arrays for storing accuracies for each type of weigthing\u001b[39;00m\n\u001b[1;32m     <a href='vscode-notebook-cell:/Users/andreacacioli/Desktop/GitHub/MachineLearning/Exercise%202%20%28kNN%29/classification_iris_knn_aa_19_20.ipynb#X15sZmlsZQ%3D%3D?line=18'>19</a>\u001b[0m i\u001b[39m=\u001b[39m\u001b[39m0\u001b[39m  \u001b[39m#parameter in the control of the different diagram (=matrix A column index)\u001b[39;00m\n\u001b[1;32m     <a href='vscode-notebook-cell:/Users/andreacacioli/Desktop/GitHub/MachineLearning/Exercise%202%20%28kNN%29/classification_iris_knn_aa_19_20.ipynb#X15sZmlsZQ%3D%3D?line=19'>20</a>\u001b[0m best_accuracy\u001b[39m=\u001b[39m\u001b[39m0\u001b[39m\n",
      "File \u001b[0;32m/usr/local/lib/python3.9/site-packages/numpy/__init__.py:305\u001b[0m, in \u001b[0;36m__getattr__\u001b[0;34m(attr)\u001b[0m\n\u001b[1;32m    300\u001b[0m     warnings\u001b[39m.\u001b[39mwarn(\n\u001b[1;32m    301\u001b[0m         \u001b[39mf\u001b[39m\u001b[39m\"\u001b[39m\u001b[39mIn the future `np.\u001b[39m\u001b[39m{\u001b[39;00mattr\u001b[39m}\u001b[39;00m\u001b[39m` will be defined as the \u001b[39m\u001b[39m\"\u001b[39m\n\u001b[1;32m    302\u001b[0m         \u001b[39m\"\u001b[39m\u001b[39mcorresponding NumPy scalar.\u001b[39m\u001b[39m\"\u001b[39m, \u001b[39mFutureWarning\u001b[39;00m, stacklevel\u001b[39m=\u001b[39m\u001b[39m2\u001b[39m)\n\u001b[1;32m    304\u001b[0m \u001b[39mif\u001b[39;00m attr \u001b[39min\u001b[39;00m __former_attrs__:\n\u001b[0;32m--> 305\u001b[0m     \u001b[39mraise\u001b[39;00m \u001b[39mAttributeError\u001b[39;00m(__former_attrs__[attr])\n\u001b[1;32m    307\u001b[0m \u001b[39m# Importing Tester requires importing all of UnitTest which is not a\u001b[39;00m\n\u001b[1;32m    308\u001b[0m \u001b[39m# cheap import Since it is mainly used in test suits, we lazy import it\u001b[39;00m\n\u001b[1;32m    309\u001b[0m \u001b[39m# here to save on the order of 10 ms of import time for most users\u001b[39;00m\n\u001b[1;32m    310\u001b[0m \u001b[39m#\u001b[39;00m\n\u001b[1;32m    311\u001b[0m \u001b[39m# The previous way Tester was imported also had a side effect of adding\u001b[39;00m\n\u001b[1;32m    312\u001b[0m \u001b[39m# the full `numpy.testing` namespace\u001b[39;00m\n\u001b[1;32m    313\u001b[0m \u001b[39mif\u001b[39;00m attr \u001b[39m==\u001b[39m \u001b[39m'\u001b[39m\u001b[39mtesting\u001b[39m\u001b[39m'\u001b[39m:\n",
      "\u001b[0;31mAttributeError\u001b[0m: module 'numpy' has no attribute 'float'.\n`np.float` was a deprecated alias for the builtin `float`. To avoid this error in existing code, use `float` by itself. Doing this will not modify any behavior and is safe. If you specifically wanted the numpy scalar type, use `np.float64` here.\nThe aliases was originally deprecated in NumPy 1.20; for more details and guidance see the original release note at:\n    https://numpy.org/devdocs/release/1.20.0-notes.html#deprecations"
     ]
    },
    {
     "data": {
      "image/png": "[encoded data removed]",
      "text/plain": [
       "<Figure size 640x480 with 1 Axes>"
      ]
     },
     "metadata": {},
     "output_type": "display_data"
    }
   ],
   "source": [
    "import numpy as np\n",
    "from numpy import zeros\n",
    "from sklearn import neighbors\n",
    "from sklearn.datasets import load_iris\n",
    "\n",
    "iris = load_iris()\n",
    "from sklearn.model_selection import train_test_split\n",
    "\n",
    "import matplotlib.pyplot as plt\n",
    "\n",
    "X_train, X_test, y_train, y_test = train_test_split(\n",
    "    iris.data, iris.target, test_size=0.4, random_state=0\n",
    ")\n",
    "\n",
    "fig = plt.figure()\n",
    "fig.suptitle(\n",
    "    \"Accuracy in k-nn with number of neighbors and types of weighting\",\n",
    "    fontsize=14,\n",
    "    fontweight=\"bold\",\n",
    ")\n",
    "ax = fig.add_subplot(111)\n",
    "ax.set_xlabel(\"n. neighbors\")\n",
    "ax.set_ylabel(\"accuracy\")\n",
    "\n",
    "A = np.zeros(\n",
    "    (len(y_train), 2), dtype=np.float\n",
    ")  # 2 arrays for storing accuracies for each type of weigthing\n",
    "i = 0  # parameter in the control of the different diagram (=matrix A column index)\n",
    "best_accuracy = 0\n",
    "for weight_type in [\"uniform\", \"distance\"]:\n",
    "    print(\"\\n weighting:\" + str(weight_type))\n",
    "    best_accuracy = 0\n",
    "    best_k = 1\n",
    "    for n_neighbors in np.arange(1, len(y_train) + 1):\n",
    "        clf_knn2 = neighbors.KNeighborsClassifier(n_neighbors, weights=weight_type)\n",
    "        # (n_neighbors=5, weights='uniform', algorithm='auto', leaf_size=30, p=2, metric='minkowski', metric_params=None, n_jobs=1, **kwargs)\n",
    "        clf_knn2.fit(X_train, y_train)\n",
    "        index = n_neighbors - 1  # computes the matrix row index\n",
    "        A[index, i] = clf_knn2.score(X_test, y_test)\n",
    "        if best_accuracy < clf_knn2.score(X_test, y_test):\n",
    "            best_accuracy = clf_knn2.score(X_test, y_test)\n",
    "            best_k = n_neighbors\n",
    "        print(\"k neighbors=\" + str(n_neighbors))\n",
    "        print(\"accuracy=\" + str(clf_knn2.score(X_test, y_test)))\n",
    "\n",
    "    print(\"\\n\")\n",
    "    print(\"best k=\" + str(best_k))\n",
    "    print(\"best accuracy=\" + str(best_accuracy))\n",
    "    plt.plot(np.arange(1, len(y_train) + 1), A[:, i])\n",
    "    i = i + 1\n",
    "plt.legend([\"uniform\", \"distance\"], loc=\"lower left\")\n",
    "plt.show()"
   ]
  },
  {
   "cell_type": "markdown",
   "metadata": {
    "collapsed": true
   },
   "source": [
    "Plot the Iris dataset, in 2-D, with a red color for Setosa, blu for Versicolor, Green for Virginica.\n"
   ]
  },
  {
   "cell_type": "code",
   "execution_count": null,
   "metadata": {
    "collapsed": true
   },
   "outputs": [],
   "source": []
  },
  {
   "cell_type": "markdown",
   "metadata": {},
   "source": [
    "Plot the Iris dataset, in 2-D, with the color as above determined by the k-nn estimation\n"
   ]
  },
  {
   "cell_type": "code",
   "execution_count": null,
   "metadata": {
    "collapsed": true
   },
   "outputs": [],
   "source": []
  },
  {
   "cell_type": "markdown",
   "metadata": {},
   "source": [
    "In the following, extend the above exercize on k-nn using a kernel function for the distances computation. Use a Gaussian kernel, centered around the data point, with a standard deviation sigma that must be tuned to the best value."
   ]
  },
  {
   "cell_type": "code",
   "execution_count": null,
   "metadata": {
    "collapsed": true
   },
   "outputs": [],
   "source": []
  }
 ],
 "metadata": {
  "anaconda-cloud": {},
  "kernelspec": {
   "display_name": "Python 3",
   "language": "python",
   "name": "python3"
  },
  "language_info": {
   "codemirror_mode": {
    "name": "ipython",
    "version": 3
   },
   "file_extension": ".py",
   "mimetype": "text/x-python",
   "name": "python",
   "nbconvert_exporter": "python",
   "pygments_lexer": "ipython3",
   "version": "3.9.18"
  }
 },
 "nbformat": 4,
 "nbformat_minor": 0
}
