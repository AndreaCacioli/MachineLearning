{
 "cells": [
  {
   "cell_type": "markdown",
   "metadata": {},
   "source": [
    "# Light FM \n",
    "\n",
    "Light FM is an hybrid recommender model that can be used to learn user - item representations and preferences.\n",
    "\n",
    "In this notebook we are going to try and use it on some real world data."
   ]
  }
 ],
 "metadata": {
  "language_info": {
   "name": "python"
  }
 },
 "nbformat": 4,
 "nbformat_minor": 2
}
