{
 "cells": [
  {
   "cell_type": "markdown",
   "metadata": {},
   "source": [
    "# What is Surprise?\n",
    "\n",
    "Surprise is a machine learning python library that is specifically tailored to the recommendation system community.\n",
    "\n",
    "It is basically the sklearn of the recommendation system field."
   ]
  },
  {
   "cell_type": "code",
   "execution_count": 1,
   "metadata": {},
   "outputs": [
    {
     "name": "stdout",
     "output_type": "stream",
     "text": [
      "Dataset ml-100k could not be found. Do you want to download it? [Y/n] Dataset ml-100k could not be found. Do you want to download it? [Y/n] Trying to download dataset from https://files.grouplens.org/datasets/movielens/ml-100k.zip...\n",
      "Done! Dataset ml-100k has been saved to /home/andreacacioli/.surprise_data/ml-100k\n",
      "Evaluating RMSE, MAE of algorithm SVD on 5 split(s).\n",
      "\n",
      "                  Fold 1  Fold 2  Fold 3  Fold 4  Fold 5  Mean    Std     \n",
      "RMSE (testset)    0.9369  0.9347  0.9387  0.9358  0.9403  0.9373  0.0020  \n",
      "MAE (testset)     0.7390  0.7382  0.7387  0.7366  0.7388  0.7383  0.0009  \n",
      "Fit time          0.31    0.33    0.32    0.31    0.31    0.31    0.01    \n",
      "Test time         0.04    0.03    0.03    0.05    0.05    0.04    0.01    \n"
     ]
    },
    {
     "data": {
      "text/plain": [
       "{'test_rmse': array([0.93693848, 0.93468439, 0.93868729, 0.93576192, 0.94032375]),\n",
       " 'test_mae': array([0.73903996, 0.73824268, 0.73871764, 0.73655279, 0.73879455]),\n",
       " 'fit_time': (0.3095386028289795,\n",
       "  0.3262159824371338,\n",
       "  0.31844091415405273,\n",
       "  0.307619571685791,\n",
       "  0.30576205253601074),\n",
       " 'test_time': (0.03698468208312988,\n",
       "  0.03345227241516113,\n",
       "  0.03313446044921875,\n",
       "  0.04970359802246094,\n",
       "  0.05160260200500488)}"
      ]
     },
     "execution_count": 1,
     "metadata": {},
     "output_type": "execute_result"
    }
   ],
   "source": [
    "from surprise import SVD\n",
    "from surprise import Dataset\n",
    "from surprise.model_selection import cross_validate\n",
    "\n",
    "# Load the movielens-100k dataset (download it if needed).\n",
    "data = Dataset.load_builtin('ml-100k')\n",
    "\n",
    "# Use the famous SVD algorithm.\n",
    "algo = SVD()\n",
    "\n",
    "# Run 5-fold cross-validation and print results.\n",
    "cross_validate(algo, data, measures=['RMSE', 'MAE'], cv=5, verbose=True)\n"
   ]
  }
 ],
 "metadata": {
  "kernelspec": {
   "display_name": "surprise",
   "language": "python",
   "name": "python3"
  },
  "language_info": {
   "codemirror_mode": {
    "name": "ipython",
    "version": 3
   },
   "file_extension": ".py",
   "mimetype": "text/x-python",
   "name": "python",
   "nbconvert_exporter": "python",
   "pygments_lexer": "ipython3",
   "version": "3.9.20"
  }
 },
 "nbformat": 4,
 "nbformat_minor": 2
}
