{
 "cells": [
  {
   "cell_type": "markdown",
   "metadata": {},
   "source": [
    "# Objective and Data\n",
    "\n",
    "In this notebook we are going to use the `TMDB 5000` Movie Dataset taken from kaggle to experiment with the demographic information that is available there.\n",
    "\n"
   ]
  },
  {
   "cell_type": "code",
   "execution_count": 3,
   "metadata": {},
   "outputs": [
    {
     "name": "stderr",
     "output_type": "stream",
     "text": [
      "mkdir: cannot create directory ‘/home/andreacacioli/Documents/github/MachineLearning/Udemy-PRSFB/DemographicFiltering/data’: File exists\n",
      "  % Total    % Received % Xferd  Average Speed   Time    Time     Time  Current\n",
      "                                 Dload  Upload   Total   Spent    Left  Speed\n",
      "  0     0    0     0    0     0      0      0 --:--:-- --:--:-- --:--:--     0\n",
      "  1 9099k    1  145k    0     0   151k      0  0:00:59 --:--:--  0:00:59  151k"
     ]
    },
    {
     "name": "stdout",
     "output_type": "stream",
     "text": [
      "Archive:  /home/andreacacioli/Documents/github/MachineLearning/Udemy-PRSFB/DemographicFiltering/data/archive.zip\n",
      "  inflating: /home/andreacacioli/Documents/github/MachineLearning/Udemy-PRSFB/DemographicFiltering/data/tmdb_5000_credits.csv  \n",
      "  inflating: /home/andreacacioli/Documents/github/MachineLearning/Udemy-PRSFB/DemographicFiltering/data/tmdb_5000_movies.csv  \n"
     ]
    },
    {
     "name": "stderr",
     "output_type": "stream",
     "text": [
      "100 9099k  100 9099k    0     0  5526k      0  0:00:01  0:00:01 --:--:-- 12.6M\n"
     ]
    },
    {
     "data": {
      "text/plain": [
       "0"
      ]
     },
     "execution_count": 3,
     "metadata": {},
     "output_type": "execute_result"
    }
   ],
   "source": [
    "    # Download the dataset to this folder\\n\n",
    "import os\n",
    "data_destination_path = '~/Documents/github/MachineLearning/Udemy-PRSFB/DemographicFiltering/data'\n",
    "\n",
    "os.system(f'mkdir {data_destination_path}')\n",
    "os.system(f'curl -L -o {data_destination_path}/archive.zip  https://www.kaggle.com/api/v1/datasets/download/tmdb/tmdb-movie-metadata')\n",
    "os.system(f'unzip -o -d {data_destination_path} {data_destination_path}/archive.zip')\n",
    "os.system(f'rm {data_destination_path}/archive.zip')"
   ]
  }
 ],
 "metadata": {
  "kernelspec": {
   "display_name": "experiments",
   "language": "python",
   "name": "python3"
  },
  "language_info": {
   "codemirror_mode": {
    "name": "ipython",
    "version": 3
   },
   "file_extension": ".py",
   "mimetype": "text/x-python",
   "name": "python",
   "nbconvert_exporter": "python",
   "pygments_lexer": "ipython3",
   "version": "3.9.20"
  }
 },
 "nbformat": 4,
 "nbformat_minor": 2
}
